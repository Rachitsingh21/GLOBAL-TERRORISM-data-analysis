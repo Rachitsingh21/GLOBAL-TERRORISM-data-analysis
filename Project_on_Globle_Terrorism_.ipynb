{
  "nbformat": 4,
  "nbformat_minor": 0,
  "metadata": {
    "colab": {
      "name": "Project on Globle Terrorism .ipynb",
      "provenance": [],
      "collapsed_sections": [],
      "authorship_tag": "ABX9TyNAT9APu8XPSoNO3EB9qNeN",
      "include_colab_link": true
    },
    "kernelspec": {
      "name": "python3",
      "display_name": "Python 3"
    },
    "language_info": {
      "name": "python"
    }
  },
  "cells": [
    {
      "cell_type": "markdown",
      "metadata": {
        "id": "view-in-github",
        "colab_type": "text"
      },
      "source": [
        "<a href=\"https://colab.research.google.com/github/Rachitsingh21/GLOBAL-TERRORISM-data-analysis/blob/main/Project_on_Globle_Terrorism_.ipynb\" target=\"_parent\"><img src=\"https://colab.research.google.com/assets/colab-badge.svg\" alt=\"Open In Colab\"/></a>"
      ]
    },
    {
      "cell_type": "markdown",
      "source": [
        "## <b> The Global Terrorism Database (GTD) is an open-source database including information on terrorist attacks around the world from 1970 through 2017. The GTD includes systematic data on domestic as well as international terrorist incidents that have occurred during this time period and now includes more than 180,000 attacks. The database is maintained by researchers at the National Consortium for the Study of Terrorism and Responses to Terrorism (START), headquartered at the University of Maryland.</b>\n",
        "\n",
        "# <b> Explore and analyze the data to discover key findings pertaining to terrorist activities. </b>"
      ],
      "metadata": {
        "id": "hXLpB-ocxG4q"
      }
    },
    {
      "cell_type": "markdown",
      "source": [
        "**What is Terrorsim?**\n",
        "\n",
        "Terrorism is the deliberate killing of innocent people, at random, to spread fear through a whole population and force the hand of its political leaders.\n",
        "(sorce: https://en.wikipedia.org/wiki/Terrorism)\n",
        "\n",
        "STEPS CONSIDERED TO SOLVE AND ANALYSE THE DATA:\n",
        "\n",
        "*   Read and understand the given Raw Data.\n",
        "*   Import the raw data file from drive to Colab Notebook.\n",
        "*   Basic Data Cleaning.\n",
        "*   Test & Problem Assumptions\n",
        "*   Analysis and Visualization implimentation.\n",
        "\n",
        "\n",
        "\n",
        "\n"
      ],
      "metadata": {
        "id": "iYfexcCj_Sgb"
      }
    },
    {
      "cell_type": "markdown",
      "source": [
        "## Lets just get started."
      ],
      "metadata": {
        "id": "yLURuzei__3i"
      }
    },
    {
      "cell_type": "code",
      "execution_count": null,
      "metadata": {
        "colab": {
          "base_uri": "https://localhost:8080/"
        },
        "id": "7bK3edph2y2X",
        "outputId": "2b7aa2c2-4954-4bbd-d9ac-525bd4a626fe"
      },
      "outputs": [
        {
          "output_type": "stream",
          "name": "stdout",
          "text": [
            "Mounted at /content/drive\n"
          ]
        }
      ],
      "source": [
        "#Mounting the google drive.\n",
        "from google.colab import drive\n",
        "drive.mount('/content/drive')"
      ]
    },
    {
      "cell_type": "code",
      "source": [
        "#Importing the important packages and Tools. \n",
        "import pandas as pd\n",
        "import numpy as np\n",
        "import matplotlib.pyplot as plt\n",
        "%matplotlib inline"
      ],
      "metadata": {
        "id": "5AGdsNzF3Um1"
      },
      "execution_count": null,
      "outputs": []
    },
    {
      "cell_type": "code",
      "source": [
        "#Loading the given csv file.\n",
        "labled_path = '/content/drive/MyDrive/Colab Notebooks/ALMA BETTER/CAP STONE PROJECT 1/Global Terrorism Data.csv'"
      ],
      "metadata": {
        "id": "mYkwMpgq3px_"
      },
      "execution_count": null,
      "outputs": []
    },
    {
      "cell_type": "code",
      "source": [
        "gt_df = pd.read_csv(labled_path, encoding = 'latin-1')"
      ],
      "metadata": {
        "id": "qq5dZXJ04LHV",
        "colab": {
          "base_uri": "https://localhost:8080/"
        },
        "outputId": "3cfe81aa-7892-4051-823f-d4c7c69cb65e"
      },
      "execution_count": null,
      "outputs": [
        {
          "output_type": "stream",
          "name": "stderr",
          "text": [
            "/usr/local/lib/python3.7/dist-packages/IPython/core/interactiveshell.py:3326: DtypeWarning: Columns (4,6,31,33,61,62,63,76,79,90,92,94,96,114,115,121) have mixed types.Specify dtype option on import or set low_memory=False.\n",
            "  exec(code_obj, self.user_global_ns, self.user_ns)\n"
          ]
        }
      ]
    },
    {
      "cell_type": "markdown",
      "source": [
        "#1.  CLEANING & SELECTION OF DATA\n",
        "\n",
        "Here we just need to select & extract the data to analyse the given data in a useful manner, so here we slice some of the columns from the raw data. "
      ],
      "metadata": {
        "id": "f89_lhXABG-t"
      }
    },
    {
      "cell_type": "code",
      "source": [
        "#Renaming of the columns\n",
        "gt_df.rename(columns = {'iyear':'Year','imonth':'Month','country_txt':'Country','region_txt':'Region','attacktype1_txt':'Attacktype','targtype1':'Expected casualities','targtype1_txt':'Targets','targsubtype1':'Total casualities','corp1':'Target personal','natlty1_txt':'Target nationality','gname':'Terror group','motive':'Motive','weaptype1_txt':'Weapon'}, inplace = True)"
      ],
      "metadata": {
        "id": "HTak23J9yQww"
      },
      "execution_count": null,
      "outputs": []
    },
    {
      "cell_type": "code",
      "source": [
        "gt_df = gt_df[['Year','Month','Country','Region','Attacktype','Expected casualities','Targets','Total casualities','Target personal','Target nationality','Terror group','Motive','Weapon']]"
      ],
      "metadata": {
        "id": "a3SFgm1FyiUr"
      },
      "execution_count": null,
      "outputs": []
    },
    {
      "cell_type": "code",
      "source": [
        "#Checking the selected Renamed Values presence.\n",
        "gt_df.columns"
      ],
      "metadata": {
        "colab": {
          "base_uri": "https://localhost:8080/"
        },
        "id": "XCt4AOneynr6",
        "outputId": "6c11b67e-a767-4aa0-b73c-042ec7b15dc7"
      },
      "execution_count": null,
      "outputs": [
        {
          "output_type": "execute_result",
          "data": {
            "text/plain": [
              "Index(['Year', 'Month', 'Country', 'Region', 'Attacktype',\n",
              "       'Expected casualities', 'Targets', 'Total casualities',\n",
              "       'Target personal', 'Target nationality', 'Terror group', 'Motive',\n",
              "       'Weapon'],\n",
              "      dtype='object')"
            ]
          },
          "metadata": {},
          "execution_count": 8
        }
      ]
    },
    {
      "cell_type": "markdown",
      "source": [
        "\n",
        "##2. Exratction & Comparision of Total Casualities Occured:\n",
        "\n",
        "Here initially we are selecting \"Year\",\"Expected Casulaities\" & \"Total Casualities\" from the given set of data.\n",
        "\n",
        "\n",
        "*  Taking given set of data in order to analyse and compare the Expected Casualities can can occure due to Terror Attacks with Total Casualities occured due to Attacks in respected Years.\n",
        "\n"
      ],
      "metadata": {
        "id": "OMkaqkKLG8d_"
      }
    },
    {
      "cell_type": "code",
      "source": [
        "#Extracting of useful data related to above context.\n",
        "first_data = gt_df[['Year','Expected casualities','Total casualities']]\n",
        "first_data"
      ],
      "metadata": {
        "colab": {
          "base_uri": "https://localhost:8080/",
          "height": 424
        },
        "id": "7rAcxVxCyr26",
        "outputId": "72dfa736-2138-4d1b-ae1d-bbde44077ae8"
      },
      "execution_count": null,
      "outputs": [
        {
          "output_type": "execute_result",
          "data": {
            "text/plain": [
              "        Year  Expected casualities  Total casualities\n",
              "0       1970                    14               68.0\n",
              "1       1970                     7               45.0\n",
              "2       1970                    10               54.0\n",
              "3       1970                     7               46.0\n",
              "4       1970                     7               46.0\n",
              "...      ...                   ...                ...\n",
              "181686  2017                     4               36.0\n",
              "181687  2017                     4               27.0\n",
              "181688  2017                    14               76.0\n",
              "181689  2017                     2               21.0\n",
              "181690  2017                    20                NaN\n",
              "\n",
              "[181691 rows x 3 columns]"
            ],
            "text/html": [
              "\n",
              "  <div id=\"df-98cec8f9-2784-466d-8b2b-4ce866b476fa\">\n",
              "    <div class=\"colab-df-container\">\n",
              "      <div>\n",
              "<style scoped>\n",
              "    .dataframe tbody tr th:only-of-type {\n",
              "        vertical-align: middle;\n",
              "    }\n",
              "\n",
              "    .dataframe tbody tr th {\n",
              "        vertical-align: top;\n",
              "    }\n",
              "\n",
              "    .dataframe thead th {\n",
              "        text-align: right;\n",
              "    }\n",
              "</style>\n",
              "<table border=\"1\" class=\"dataframe\">\n",
              "  <thead>\n",
              "    <tr style=\"text-align: right;\">\n",
              "      <th></th>\n",
              "      <th>Year</th>\n",
              "      <th>Expected casualities</th>\n",
              "      <th>Total casualities</th>\n",
              "    </tr>\n",
              "  </thead>\n",
              "  <tbody>\n",
              "    <tr>\n",
              "      <th>0</th>\n",
              "      <td>1970</td>\n",
              "      <td>14</td>\n",
              "      <td>68.0</td>\n",
              "    </tr>\n",
              "    <tr>\n",
              "      <th>1</th>\n",
              "      <td>1970</td>\n",
              "      <td>7</td>\n",
              "      <td>45.0</td>\n",
              "    </tr>\n",
              "    <tr>\n",
              "      <th>2</th>\n",
              "      <td>1970</td>\n",
              "      <td>10</td>\n",
              "      <td>54.0</td>\n",
              "    </tr>\n",
              "    <tr>\n",
              "      <th>3</th>\n",
              "      <td>1970</td>\n",
              "      <td>7</td>\n",
              "      <td>46.0</td>\n",
              "    </tr>\n",
              "    <tr>\n",
              "      <th>4</th>\n",
              "      <td>1970</td>\n",
              "      <td>7</td>\n",
              "      <td>46.0</td>\n",
              "    </tr>\n",
              "    <tr>\n",
              "      <th>...</th>\n",
              "      <td>...</td>\n",
              "      <td>...</td>\n",
              "      <td>...</td>\n",
              "    </tr>\n",
              "    <tr>\n",
              "      <th>181686</th>\n",
              "      <td>2017</td>\n",
              "      <td>4</td>\n",
              "      <td>36.0</td>\n",
              "    </tr>\n",
              "    <tr>\n",
              "      <th>181687</th>\n",
              "      <td>2017</td>\n",
              "      <td>4</td>\n",
              "      <td>27.0</td>\n",
              "    </tr>\n",
              "    <tr>\n",
              "      <th>181688</th>\n",
              "      <td>2017</td>\n",
              "      <td>14</td>\n",
              "      <td>76.0</td>\n",
              "    </tr>\n",
              "    <tr>\n",
              "      <th>181689</th>\n",
              "      <td>2017</td>\n",
              "      <td>2</td>\n",
              "      <td>21.0</td>\n",
              "    </tr>\n",
              "    <tr>\n",
              "      <th>181690</th>\n",
              "      <td>2017</td>\n",
              "      <td>20</td>\n",
              "      <td>NaN</td>\n",
              "    </tr>\n",
              "  </tbody>\n",
              "</table>\n",
              "<p>181691 rows × 3 columns</p>\n",
              "</div>\n",
              "      <button class=\"colab-df-convert\" onclick=\"convertToInteractive('df-98cec8f9-2784-466d-8b2b-4ce866b476fa')\"\n",
              "              title=\"Convert this dataframe to an interactive table.\"\n",
              "              style=\"display:none;\">\n",
              "        \n",
              "  <svg xmlns=\"http://www.w3.org/2000/svg\" height=\"24px\"viewBox=\"0 0 24 24\"\n",
              "       width=\"24px\">\n",
              "    <path d=\"M0 0h24v24H0V0z\" fill=\"none\"/>\n",
              "    <path d=\"M18.56 5.44l.94 2.06.94-2.06 2.06-.94-2.06-.94-.94-2.06-.94 2.06-2.06.94zm-11 1L8.5 8.5l.94-2.06 2.06-.94-2.06-.94L8.5 2.5l-.94 2.06-2.06.94zm10 10l.94 2.06.94-2.06 2.06-.94-2.06-.94-.94-2.06-.94 2.06-2.06.94z\"/><path d=\"M17.41 7.96l-1.37-1.37c-.4-.4-.92-.59-1.43-.59-.52 0-1.04.2-1.43.59L10.3 9.45l-7.72 7.72c-.78.78-.78 2.05 0 2.83L4 21.41c.39.39.9.59 1.41.59.51 0 1.02-.2 1.41-.59l7.78-7.78 2.81-2.81c.8-.78.8-2.07 0-2.86zM5.41 20L4 18.59l7.72-7.72 1.47 1.35L5.41 20z\"/>\n",
              "  </svg>\n",
              "      </button>\n",
              "      \n",
              "  <style>\n",
              "    .colab-df-container {\n",
              "      display:flex;\n",
              "      flex-wrap:wrap;\n",
              "      gap: 12px;\n",
              "    }\n",
              "\n",
              "    .colab-df-convert {\n",
              "      background-color: #E8F0FE;\n",
              "      border: none;\n",
              "      border-radius: 50%;\n",
              "      cursor: pointer;\n",
              "      display: none;\n",
              "      fill: #1967D2;\n",
              "      height: 32px;\n",
              "      padding: 0 0 0 0;\n",
              "      width: 32px;\n",
              "    }\n",
              "\n",
              "    .colab-df-convert:hover {\n",
              "      background-color: #E2EBFA;\n",
              "      box-shadow: 0px 1px 2px rgba(60, 64, 67, 0.3), 0px 1px 3px 1px rgba(60, 64, 67, 0.15);\n",
              "      fill: #174EA6;\n",
              "    }\n",
              "\n",
              "    [theme=dark] .colab-df-convert {\n",
              "      background-color: #3B4455;\n",
              "      fill: #D2E3FC;\n",
              "    }\n",
              "\n",
              "    [theme=dark] .colab-df-convert:hover {\n",
              "      background-color: #434B5C;\n",
              "      box-shadow: 0px 1px 3px 1px rgba(0, 0, 0, 0.15);\n",
              "      filter: drop-shadow(0px 1px 2px rgba(0, 0, 0, 0.3));\n",
              "      fill: #FFFFFF;\n",
              "    }\n",
              "  </style>\n",
              "\n",
              "      <script>\n",
              "        const buttonEl =\n",
              "          document.querySelector('#df-98cec8f9-2784-466d-8b2b-4ce866b476fa button.colab-df-convert');\n",
              "        buttonEl.style.display =\n",
              "          google.colab.kernel.accessAllowed ? 'block' : 'none';\n",
              "\n",
              "        async function convertToInteractive(key) {\n",
              "          const element = document.querySelector('#df-98cec8f9-2784-466d-8b2b-4ce866b476fa');\n",
              "          const dataTable =\n",
              "            await google.colab.kernel.invokeFunction('convertToInteractive',\n",
              "                                                     [key], {});\n",
              "          if (!dataTable) return;\n",
              "\n",
              "          const docLinkHtml = 'Like what you see? Visit the ' +\n",
              "            '<a target=\"_blank\" href=https://colab.research.google.com/notebooks/data_table.ipynb>data table notebook</a>'\n",
              "            + ' to learn more about interactive tables.';\n",
              "          element.innerHTML = '';\n",
              "          dataTable['output_type'] = 'display_data';\n",
              "          await google.colab.output.renderOutput(dataTable, element);\n",
              "          const docLink = document.createElement('div');\n",
              "          docLink.innerHTML = docLinkHtml;\n",
              "          element.appendChild(docLink);\n",
              "        }\n",
              "      </script>\n",
              "    </div>\n",
              "  </div>\n",
              "  "
            ]
          },
          "metadata": {},
          "execution_count": 9
        }
      ]
    },
    {
      "cell_type": "code",
      "source": [
        "#Taking the mean of the value columns('Expected casualities', 'Total casualities' occures word wide) w.r.t Years\n",
        "avg_casualities = first_data.groupby([\"Year\"])[\"Expected casualities\",\"Total casualities\"].sum()\n",
        "avg_casualities"
      ],
      "metadata": {
        "colab": {
          "base_uri": "https://localhost:8080/",
          "height": 1000
        },
        "id": "YRJ3117KD6h3",
        "outputId": "6896a461-7746-4f49-ec42-73f9e65e76de"
      },
      "execution_count": null,
      "outputs": [
        {
          "output_type": "stream",
          "name": "stderr",
          "text": [
            "/usr/local/lib/python3.7/dist-packages/ipykernel_launcher.py:2: FutureWarning: Indexing with multiple keys (implicitly converted to a tuple of keys) will be deprecated, use a list instead.\n",
            "  \n"
          ]
        },
        {
          "output_type": "execute_result",
          "data": {
            "text/plain": [
              "      Expected casualities  Total casualities\n",
              "Year                                         \n",
              "1970                  3816            22565.0\n",
              "1971                  2413            14389.0\n",
              "1972                  4245            24576.0\n",
              "1973                  3537            20151.0\n",
              "1974                  3834            21532.0\n",
              "1975                  5325            28574.0\n",
              "1976                  6038            33906.0\n",
              "1977                  8596            47716.0\n",
              "1978                  8716            50129.0\n",
              "1979                 17455            92297.0\n",
              "1980                 18196           103416.0\n",
              "1981                 19838           112194.0\n",
              "1982                 21850           117510.0\n",
              "1983                 21218           121161.0\n",
              "1984                 30821           168061.0\n",
              "1985                 23951           132644.0\n",
              "1986                 22145           122196.0\n",
              "1987                 25187           139148.0\n",
              "1988                 29415           167289.0\n",
              "1989                 33619           190132.0\n",
              "1990                 34265           189258.0\n",
              "1991                 36419           204003.0\n",
              "1992                 39532           219331.0\n",
              "1994                 28225           152587.0\n",
              "1995                 27786           142193.0\n",
              "1996                 28218           138108.0\n",
              "1997                 29382           143769.0\n",
              "1998                  8104            43663.0\n",
              "1999                 11749            63691.0\n",
              "2000                 15539            84739.0\n",
              "2001                 16966            91268.0\n",
              "2002                 11664            62373.0\n",
              "2003                 10273            56164.0\n",
              "2004                  9111            49883.0\n",
              "2005                 15383            85074.0\n",
              "2006                 23857           116391.0\n",
              "2007                 26991           143115.0\n",
              "2008                 45364           239217.0\n",
              "2009                 44878           235338.0\n",
              "2010                 41798           228753.0\n",
              "2011                 43999           238245.0\n",
              "2012                 67293           361631.0\n",
              "2013                 96449           522394.0\n",
              "2014                144627           743319.0\n",
              "2015                136742           679700.0\n",
              "2016                130317           622642.0\n",
              "2017                 98275           460624.0"
            ],
            "text/html": [
              "\n",
              "  <div id=\"df-b2a8ad27-a6fa-45c0-a06c-f9cd34312d95\">\n",
              "    <div class=\"colab-df-container\">\n",
              "      <div>\n",
              "<style scoped>\n",
              "    .dataframe tbody tr th:only-of-type {\n",
              "        vertical-align: middle;\n",
              "    }\n",
              "\n",
              "    .dataframe tbody tr th {\n",
              "        vertical-align: top;\n",
              "    }\n",
              "\n",
              "    .dataframe thead th {\n",
              "        text-align: right;\n",
              "    }\n",
              "</style>\n",
              "<table border=\"1\" class=\"dataframe\">\n",
              "  <thead>\n",
              "    <tr style=\"text-align: right;\">\n",
              "      <th></th>\n",
              "      <th>Expected casualities</th>\n",
              "      <th>Total casualities</th>\n",
              "    </tr>\n",
              "    <tr>\n",
              "      <th>Year</th>\n",
              "      <th></th>\n",
              "      <th></th>\n",
              "    </tr>\n",
              "  </thead>\n",
              "  <tbody>\n",
              "    <tr>\n",
              "      <th>1970</th>\n",
              "      <td>3816</td>\n",
              "      <td>22565.0</td>\n",
              "    </tr>\n",
              "    <tr>\n",
              "      <th>1971</th>\n",
              "      <td>2413</td>\n",
              "      <td>14389.0</td>\n",
              "    </tr>\n",
              "    <tr>\n",
              "      <th>1972</th>\n",
              "      <td>4245</td>\n",
              "      <td>24576.0</td>\n",
              "    </tr>\n",
              "    <tr>\n",
              "      <th>1973</th>\n",
              "      <td>3537</td>\n",
              "      <td>20151.0</td>\n",
              "    </tr>\n",
              "    <tr>\n",
              "      <th>1974</th>\n",
              "      <td>3834</td>\n",
              "      <td>21532.0</td>\n",
              "    </tr>\n",
              "    <tr>\n",
              "      <th>1975</th>\n",
              "      <td>5325</td>\n",
              "      <td>28574.0</td>\n",
              "    </tr>\n",
              "    <tr>\n",
              "      <th>1976</th>\n",
              "      <td>6038</td>\n",
              "      <td>33906.0</td>\n",
              "    </tr>\n",
              "    <tr>\n",
              "      <th>1977</th>\n",
              "      <td>8596</td>\n",
              "      <td>47716.0</td>\n",
              "    </tr>\n",
              "    <tr>\n",
              "      <th>1978</th>\n",
              "      <td>8716</td>\n",
              "      <td>50129.0</td>\n",
              "    </tr>\n",
              "    <tr>\n",
              "      <th>1979</th>\n",
              "      <td>17455</td>\n",
              "      <td>92297.0</td>\n",
              "    </tr>\n",
              "    <tr>\n",
              "      <th>1980</th>\n",
              "      <td>18196</td>\n",
              "      <td>103416.0</td>\n",
              "    </tr>\n",
              "    <tr>\n",
              "      <th>1981</th>\n",
              "      <td>19838</td>\n",
              "      <td>112194.0</td>\n",
              "    </tr>\n",
              "    <tr>\n",
              "      <th>1982</th>\n",
              "      <td>21850</td>\n",
              "      <td>117510.0</td>\n",
              "    </tr>\n",
              "    <tr>\n",
              "      <th>1983</th>\n",
              "      <td>21218</td>\n",
              "      <td>121161.0</td>\n",
              "    </tr>\n",
              "    <tr>\n",
              "      <th>1984</th>\n",
              "      <td>30821</td>\n",
              "      <td>168061.0</td>\n",
              "    </tr>\n",
              "    <tr>\n",
              "      <th>1985</th>\n",
              "      <td>23951</td>\n",
              "      <td>132644.0</td>\n",
              "    </tr>\n",
              "    <tr>\n",
              "      <th>1986</th>\n",
              "      <td>22145</td>\n",
              "      <td>122196.0</td>\n",
              "    </tr>\n",
              "    <tr>\n",
              "      <th>1987</th>\n",
              "      <td>25187</td>\n",
              "      <td>139148.0</td>\n",
              "    </tr>\n",
              "    <tr>\n",
              "      <th>1988</th>\n",
              "      <td>29415</td>\n",
              "      <td>167289.0</td>\n",
              "    </tr>\n",
              "    <tr>\n",
              "      <th>1989</th>\n",
              "      <td>33619</td>\n",
              "      <td>190132.0</td>\n",
              "    </tr>\n",
              "    <tr>\n",
              "      <th>1990</th>\n",
              "      <td>34265</td>\n",
              "      <td>189258.0</td>\n",
              "    </tr>\n",
              "    <tr>\n",
              "      <th>1991</th>\n",
              "      <td>36419</td>\n",
              "      <td>204003.0</td>\n",
              "    </tr>\n",
              "    <tr>\n",
              "      <th>1992</th>\n",
              "      <td>39532</td>\n",
              "      <td>219331.0</td>\n",
              "    </tr>\n",
              "    <tr>\n",
              "      <th>1994</th>\n",
              "      <td>28225</td>\n",
              "      <td>152587.0</td>\n",
              "    </tr>\n",
              "    <tr>\n",
              "      <th>1995</th>\n",
              "      <td>27786</td>\n",
              "      <td>142193.0</td>\n",
              "    </tr>\n",
              "    <tr>\n",
              "      <th>1996</th>\n",
              "      <td>28218</td>\n",
              "      <td>138108.0</td>\n",
              "    </tr>\n",
              "    <tr>\n",
              "      <th>1997</th>\n",
              "      <td>29382</td>\n",
              "      <td>143769.0</td>\n",
              "    </tr>\n",
              "    <tr>\n",
              "      <th>1998</th>\n",
              "      <td>8104</td>\n",
              "      <td>43663.0</td>\n",
              "    </tr>\n",
              "    <tr>\n",
              "      <th>1999</th>\n",
              "      <td>11749</td>\n",
              "      <td>63691.0</td>\n",
              "    </tr>\n",
              "    <tr>\n",
              "      <th>2000</th>\n",
              "      <td>15539</td>\n",
              "      <td>84739.0</td>\n",
              "    </tr>\n",
              "    <tr>\n",
              "      <th>2001</th>\n",
              "      <td>16966</td>\n",
              "      <td>91268.0</td>\n",
              "    </tr>\n",
              "    <tr>\n",
              "      <th>2002</th>\n",
              "      <td>11664</td>\n",
              "      <td>62373.0</td>\n",
              "    </tr>\n",
              "    <tr>\n",
              "      <th>2003</th>\n",
              "      <td>10273</td>\n",
              "      <td>56164.0</td>\n",
              "    </tr>\n",
              "    <tr>\n",
              "      <th>2004</th>\n",
              "      <td>9111</td>\n",
              "      <td>49883.0</td>\n",
              "    </tr>\n",
              "    <tr>\n",
              "      <th>2005</th>\n",
              "      <td>15383</td>\n",
              "      <td>85074.0</td>\n",
              "    </tr>\n",
              "    <tr>\n",
              "      <th>2006</th>\n",
              "      <td>23857</td>\n",
              "      <td>116391.0</td>\n",
              "    </tr>\n",
              "    <tr>\n",
              "      <th>2007</th>\n",
              "      <td>26991</td>\n",
              "      <td>143115.0</td>\n",
              "    </tr>\n",
              "    <tr>\n",
              "      <th>2008</th>\n",
              "      <td>45364</td>\n",
              "      <td>239217.0</td>\n",
              "    </tr>\n",
              "    <tr>\n",
              "      <th>2009</th>\n",
              "      <td>44878</td>\n",
              "      <td>235338.0</td>\n",
              "    </tr>\n",
              "    <tr>\n",
              "      <th>2010</th>\n",
              "      <td>41798</td>\n",
              "      <td>228753.0</td>\n",
              "    </tr>\n",
              "    <tr>\n",
              "      <th>2011</th>\n",
              "      <td>43999</td>\n",
              "      <td>238245.0</td>\n",
              "    </tr>\n",
              "    <tr>\n",
              "      <th>2012</th>\n",
              "      <td>67293</td>\n",
              "      <td>361631.0</td>\n",
              "    </tr>\n",
              "    <tr>\n",
              "      <th>2013</th>\n",
              "      <td>96449</td>\n",
              "      <td>522394.0</td>\n",
              "    </tr>\n",
              "    <tr>\n",
              "      <th>2014</th>\n",
              "      <td>144627</td>\n",
              "      <td>743319.0</td>\n",
              "    </tr>\n",
              "    <tr>\n",
              "      <th>2015</th>\n",
              "      <td>136742</td>\n",
              "      <td>679700.0</td>\n",
              "    </tr>\n",
              "    <tr>\n",
              "      <th>2016</th>\n",
              "      <td>130317</td>\n",
              "      <td>622642.0</td>\n",
              "    </tr>\n",
              "    <tr>\n",
              "      <th>2017</th>\n",
              "      <td>98275</td>\n",
              "      <td>460624.0</td>\n",
              "    </tr>\n",
              "  </tbody>\n",
              "</table>\n",
              "</div>\n",
              "      <button class=\"colab-df-convert\" onclick=\"convertToInteractive('df-b2a8ad27-a6fa-45c0-a06c-f9cd34312d95')\"\n",
              "              title=\"Convert this dataframe to an interactive table.\"\n",
              "              style=\"display:none;\">\n",
              "        \n",
              "  <svg xmlns=\"http://www.w3.org/2000/svg\" height=\"24px\"viewBox=\"0 0 24 24\"\n",
              "       width=\"24px\">\n",
              "    <path d=\"M0 0h24v24H0V0z\" fill=\"none\"/>\n",
              "    <path d=\"M18.56 5.44l.94 2.06.94-2.06 2.06-.94-2.06-.94-.94-2.06-.94 2.06-2.06.94zm-11 1L8.5 8.5l.94-2.06 2.06-.94-2.06-.94L8.5 2.5l-.94 2.06-2.06.94zm10 10l.94 2.06.94-2.06 2.06-.94-2.06-.94-.94-2.06-.94 2.06-2.06.94z\"/><path d=\"M17.41 7.96l-1.37-1.37c-.4-.4-.92-.59-1.43-.59-.52 0-1.04.2-1.43.59L10.3 9.45l-7.72 7.72c-.78.78-.78 2.05 0 2.83L4 21.41c.39.39.9.59 1.41.59.51 0 1.02-.2 1.41-.59l7.78-7.78 2.81-2.81c.8-.78.8-2.07 0-2.86zM5.41 20L4 18.59l7.72-7.72 1.47 1.35L5.41 20z\"/>\n",
              "  </svg>\n",
              "      </button>\n",
              "      \n",
              "  <style>\n",
              "    .colab-df-container {\n",
              "      display:flex;\n",
              "      flex-wrap:wrap;\n",
              "      gap: 12px;\n",
              "    }\n",
              "\n",
              "    .colab-df-convert {\n",
              "      background-color: #E8F0FE;\n",
              "      border: none;\n",
              "      border-radius: 50%;\n",
              "      cursor: pointer;\n",
              "      display: none;\n",
              "      fill: #1967D2;\n",
              "      height: 32px;\n",
              "      padding: 0 0 0 0;\n",
              "      width: 32px;\n",
              "    }\n",
              "\n",
              "    .colab-df-convert:hover {\n",
              "      background-color: #E2EBFA;\n",
              "      box-shadow: 0px 1px 2px rgba(60, 64, 67, 0.3), 0px 1px 3px 1px rgba(60, 64, 67, 0.15);\n",
              "      fill: #174EA6;\n",
              "    }\n",
              "\n",
              "    [theme=dark] .colab-df-convert {\n",
              "      background-color: #3B4455;\n",
              "      fill: #D2E3FC;\n",
              "    }\n",
              "\n",
              "    [theme=dark] .colab-df-convert:hover {\n",
              "      background-color: #434B5C;\n",
              "      box-shadow: 0px 1px 3px 1px rgba(0, 0, 0, 0.15);\n",
              "      filter: drop-shadow(0px 1px 2px rgba(0, 0, 0, 0.3));\n",
              "      fill: #FFFFFF;\n",
              "    }\n",
              "  </style>\n",
              "\n",
              "      <script>\n",
              "        const buttonEl =\n",
              "          document.querySelector('#df-b2a8ad27-a6fa-45c0-a06c-f9cd34312d95 button.colab-df-convert');\n",
              "        buttonEl.style.display =\n",
              "          google.colab.kernel.accessAllowed ? 'block' : 'none';\n",
              "\n",
              "        async function convertToInteractive(key) {\n",
              "          const element = document.querySelector('#df-b2a8ad27-a6fa-45c0-a06c-f9cd34312d95');\n",
              "          const dataTable =\n",
              "            await google.colab.kernel.invokeFunction('convertToInteractive',\n",
              "                                                     [key], {});\n",
              "          if (!dataTable) return;\n",
              "\n",
              "          const docLinkHtml = 'Like what you see? Visit the ' +\n",
              "            '<a target=\"_blank\" href=https://colab.research.google.com/notebooks/data_table.ipynb>data table notebook</a>'\n",
              "            + ' to learn more about interactive tables.';\n",
              "          element.innerHTML = '';\n",
              "          dataTable['output_type'] = 'display_data';\n",
              "          await google.colab.output.renderOutput(dataTable, element);\n",
              "          const docLink = document.createElement('div');\n",
              "          docLink.innerHTML = docLinkHtml;\n",
              "          element.appendChild(docLink);\n",
              "        }\n",
              "      </script>\n",
              "    </div>\n",
              "  </div>\n",
              "  "
            ]
          },
          "metadata": {},
          "execution_count": 10
        }
      ]
    },
    {
      "cell_type": "code",
      "source": [
        "avg_casualities.describe()"
      ],
      "metadata": {
        "colab": {
          "base_uri": "https://localhost:8080/",
          "height": 300
        },
        "id": "0GeStKrxFdy5",
        "outputId": "7b281f7c-1786-4f8e-c251-58352953c160"
      },
      "execution_count": null,
      "outputs": [
        {
          "output_type": "execute_result",
          "data": {
            "text/plain": [
              "       Expected casualities  Total casualities\n",
              "count             47.000000          47.000000\n",
              "mean           32625.978723      171214.021277\n",
              "std            34444.862211      171726.355622\n",
              "min             2413.000000       14389.000000\n",
              "25%            10968.500000       59268.500000\n",
              "50%            23857.000000      122196.000000\n",
              "75%            35342.000000      197067.500000\n",
              "max           144627.000000      743319.000000"
            ],
            "text/html": [
              "\n",
              "  <div id=\"df-48c50986-967f-4830-928c-797749bcd72d\">\n",
              "    <div class=\"colab-df-container\">\n",
              "      <div>\n",
              "<style scoped>\n",
              "    .dataframe tbody tr th:only-of-type {\n",
              "        vertical-align: middle;\n",
              "    }\n",
              "\n",
              "    .dataframe tbody tr th {\n",
              "        vertical-align: top;\n",
              "    }\n",
              "\n",
              "    .dataframe thead th {\n",
              "        text-align: right;\n",
              "    }\n",
              "</style>\n",
              "<table border=\"1\" class=\"dataframe\">\n",
              "  <thead>\n",
              "    <tr style=\"text-align: right;\">\n",
              "      <th></th>\n",
              "      <th>Expected casualities</th>\n",
              "      <th>Total casualities</th>\n",
              "    </tr>\n",
              "  </thead>\n",
              "  <tbody>\n",
              "    <tr>\n",
              "      <th>count</th>\n",
              "      <td>47.000000</td>\n",
              "      <td>47.000000</td>\n",
              "    </tr>\n",
              "    <tr>\n",
              "      <th>mean</th>\n",
              "      <td>32625.978723</td>\n",
              "      <td>171214.021277</td>\n",
              "    </tr>\n",
              "    <tr>\n",
              "      <th>std</th>\n",
              "      <td>34444.862211</td>\n",
              "      <td>171726.355622</td>\n",
              "    </tr>\n",
              "    <tr>\n",
              "      <th>min</th>\n",
              "      <td>2413.000000</td>\n",
              "      <td>14389.000000</td>\n",
              "    </tr>\n",
              "    <tr>\n",
              "      <th>25%</th>\n",
              "      <td>10968.500000</td>\n",
              "      <td>59268.500000</td>\n",
              "    </tr>\n",
              "    <tr>\n",
              "      <th>50%</th>\n",
              "      <td>23857.000000</td>\n",
              "      <td>122196.000000</td>\n",
              "    </tr>\n",
              "    <tr>\n",
              "      <th>75%</th>\n",
              "      <td>35342.000000</td>\n",
              "      <td>197067.500000</td>\n",
              "    </tr>\n",
              "    <tr>\n",
              "      <th>max</th>\n",
              "      <td>144627.000000</td>\n",
              "      <td>743319.000000</td>\n",
              "    </tr>\n",
              "  </tbody>\n",
              "</table>\n",
              "</div>\n",
              "      <button class=\"colab-df-convert\" onclick=\"convertToInteractive('df-48c50986-967f-4830-928c-797749bcd72d')\"\n",
              "              title=\"Convert this dataframe to an interactive table.\"\n",
              "              style=\"display:none;\">\n",
              "        \n",
              "  <svg xmlns=\"http://www.w3.org/2000/svg\" height=\"24px\"viewBox=\"0 0 24 24\"\n",
              "       width=\"24px\">\n",
              "    <path d=\"M0 0h24v24H0V0z\" fill=\"none\"/>\n",
              "    <path d=\"M18.56 5.44l.94 2.06.94-2.06 2.06-.94-2.06-.94-.94-2.06-.94 2.06-2.06.94zm-11 1L8.5 8.5l.94-2.06 2.06-.94-2.06-.94L8.5 2.5l-.94 2.06-2.06.94zm10 10l.94 2.06.94-2.06 2.06-.94-2.06-.94-.94-2.06-.94 2.06-2.06.94z\"/><path d=\"M17.41 7.96l-1.37-1.37c-.4-.4-.92-.59-1.43-.59-.52 0-1.04.2-1.43.59L10.3 9.45l-7.72 7.72c-.78.78-.78 2.05 0 2.83L4 21.41c.39.39.9.59 1.41.59.51 0 1.02-.2 1.41-.59l7.78-7.78 2.81-2.81c.8-.78.8-2.07 0-2.86zM5.41 20L4 18.59l7.72-7.72 1.47 1.35L5.41 20z\"/>\n",
              "  </svg>\n",
              "      </button>\n",
              "      \n",
              "  <style>\n",
              "    .colab-df-container {\n",
              "      display:flex;\n",
              "      flex-wrap:wrap;\n",
              "      gap: 12px;\n",
              "    }\n",
              "\n",
              "    .colab-df-convert {\n",
              "      background-color: #E8F0FE;\n",
              "      border: none;\n",
              "      border-radius: 50%;\n",
              "      cursor: pointer;\n",
              "      display: none;\n",
              "      fill: #1967D2;\n",
              "      height: 32px;\n",
              "      padding: 0 0 0 0;\n",
              "      width: 32px;\n",
              "    }\n",
              "\n",
              "    .colab-df-convert:hover {\n",
              "      background-color: #E2EBFA;\n",
              "      box-shadow: 0px 1px 2px rgba(60, 64, 67, 0.3), 0px 1px 3px 1px rgba(60, 64, 67, 0.15);\n",
              "      fill: #174EA6;\n",
              "    }\n",
              "\n",
              "    [theme=dark] .colab-df-convert {\n",
              "      background-color: #3B4455;\n",
              "      fill: #D2E3FC;\n",
              "    }\n",
              "\n",
              "    [theme=dark] .colab-df-convert:hover {\n",
              "      background-color: #434B5C;\n",
              "      box-shadow: 0px 1px 3px 1px rgba(0, 0, 0, 0.15);\n",
              "      filter: drop-shadow(0px 1px 2px rgba(0, 0, 0, 0.3));\n",
              "      fill: #FFFFFF;\n",
              "    }\n",
              "  </style>\n",
              "\n",
              "      <script>\n",
              "        const buttonEl =\n",
              "          document.querySelector('#df-48c50986-967f-4830-928c-797749bcd72d button.colab-df-convert');\n",
              "        buttonEl.style.display =\n",
              "          google.colab.kernel.accessAllowed ? 'block' : 'none';\n",
              "\n",
              "        async function convertToInteractive(key) {\n",
              "          const element = document.querySelector('#df-48c50986-967f-4830-928c-797749bcd72d');\n",
              "          const dataTable =\n",
              "            await google.colab.kernel.invokeFunction('convertToInteractive',\n",
              "                                                     [key], {});\n",
              "          if (!dataTable) return;\n",
              "\n",
              "          const docLinkHtml = 'Like what you see? Visit the ' +\n",
              "            '<a target=\"_blank\" href=https://colab.research.google.com/notebooks/data_table.ipynb>data table notebook</a>'\n",
              "            + ' to learn more about interactive tables.';\n",
              "          element.innerHTML = '';\n",
              "          dataTable['output_type'] = 'display_data';\n",
              "          await google.colab.output.renderOutput(dataTable, element);\n",
              "          const docLink = document.createElement('div');\n",
              "          docLink.innerHTML = docLinkHtml;\n",
              "          element.appendChild(docLink);\n",
              "        }\n",
              "      </script>\n",
              "    </div>\n",
              "  </div>\n",
              "  "
            ]
          },
          "metadata": {},
          "execution_count": 11
        }
      ]
    },
    {
      "cell_type": "code",
      "source": [
        "max_percentage = ((avg_casualities[\"Total casualities\"].max())/(avg_casualities[\"Total casualities\"].sum()))*100\n",
        "f_max_percentage = \"{:.1f}\".format(max_percentage)\n",
        "print(f'The percentage of mean of highest casualities occured w.r.t all data is {f_max_percentage}%')"
      ],
      "metadata": {
        "colab": {
          "base_uri": "https://localhost:8080/"
        },
        "id": "wlOJiZYcFwL1",
        "outputId": "30add330-4a99-43cf-87f7-ad5af99f86e5"
      },
      "execution_count": null,
      "outputs": [
        {
          "output_type": "stream",
          "name": "stdout",
          "text": [
            "The percentage of mean of highest casualities occured w.r.t all data is 9.2%\n"
          ]
        }
      ]
    },
    {
      "cell_type": "code",
      "source": [
        "#ploting of bar graph tp compare the casualities expected v/s occured\n",
        "avg_casualities.plot.bar(figsize = (20,5),fontsize = 10)\n",
        "plt.xlabel('Year')\n",
        "plt.ylabel('Casuality')\n",
        "plt.title('Casuality v/s Year')\n",
        "plt.show()"
      ],
      "metadata": {
        "colab": {
          "base_uri": "https://localhost:8080/",
          "height": 365
        },
        "id": "UNLoYCanV2f2",
        "outputId": "5a211e75-0f83-4ea6-8e41-d1aa879aabf5"
      },
      "execution_count": null,
      "outputs": [
        {
          "output_type": "display_data",
          "data": {
            "text/plain": [
              "<Figure size 1440x360 with 1 Axes>"
            ],
            "image/png": "[encoded data removed]"
          },
          "metadata": {
            "needs_background": "light"
          }
        }
      ]
    },
    {
      "cell_type": "markdown",
      "source": [
        "Here from the above graph its is clear that: \" The Total occurance of Casualities due to Terror Attack is very hight than that of Expected occurance of Casualities by officials. \" Its just about more than 5 times\"."
      ],
      "metadata": {
        "id": "J98-2_9lgQFl"
      }
    },
    {
      "cell_type": "code",
      "source": [
        "#Lasr 10 year data\n",
        "a_c = avg_casualities.tail(10)\n",
        "a_c.plot.bar(figsize = (8,5),fontsize = 15)\n",
        "plt.xlabel('Year')\n",
        "plt.ylabel('Casuality')\n",
        "plt.title('Casuality v/s Year')\n",
        "plt.show()"
      ],
      "metadata": {
        "colab": {
          "base_uri": "https://localhost:8080/",
          "height": 378
        },
        "id": "W0Id-YdkLtxl",
        "outputId": "8492548a-8a72-4169-9258-e083562d265a"
      },
      "execution_count": null,
      "outputs": [
        {
          "output_type": "display_data",
          "data": {
            "text/plain": [
              "<Figure size 576x360 with 1 Axes>"
            ],
            "image/png": "[encoded data removed]"
          },
          "metadata": {
            "needs_background": "light"
          }
        }
      ]
    },
    {
      "cell_type": "markdown",
      "source": [
        "last 10 year data of comparision."
      ],
      "metadata": {
        "id": "rfKvI9KfhTj3"
      }
    },
    {
      "cell_type": "code",
      "source": [
        "#sorting of \"ean of total casualities\" in oreder to find the desasterous year in which highest casuality recorded officially.\n",
        "avg_casualities.sort_values(\"Total casualities\")"
      ],
      "metadata": {
        "colab": {
          "base_uri": "https://localhost:8080/",
          "height": 1000
        },
        "id": "YQQyq7ziOboD",
        "outputId": "8c9fd5e1-a8bc-43dc-b61b-578b3dcb4e3c"
      },
      "execution_count": null,
      "outputs": [
        {
          "output_type": "execute_result",
          "data": {
            "text/plain": [
              "      Expected casualities  Total casualities\n",
              "Year                                         \n",
              "1971                  2413            14389.0\n",
              "1973                  3537            20151.0\n",
              "1974                  3834            21532.0\n",
              "1970                  3816            22565.0\n",
              "1972                  4245            24576.0\n",
              "1975                  5325            28574.0\n",
              "1976                  6038            33906.0\n",
              "1998                  8104            43663.0\n",
              "1977                  8596            47716.0\n",
              "2004                  9111            49883.0\n",
              "1978                  8716            50129.0\n",
              "2003                 10273            56164.0\n",
              "2002                 11664            62373.0\n",
              "1999                 11749            63691.0\n",
              "2000                 15539            84739.0\n",
              "2005                 15383            85074.0\n",
              "2001                 16966            91268.0\n",
              "1979                 17455            92297.0\n",
              "1980                 18196           103416.0\n",
              "1981                 19838           112194.0\n",
              "2006                 23857           116391.0\n",
              "1982                 21850           117510.0\n",
              "1983                 21218           121161.0\n",
              "1986                 22145           122196.0\n",
              "1985                 23951           132644.0\n",
              "1996                 28218           138108.0\n",
              "1987                 25187           139148.0\n",
              "1995                 27786           142193.0\n",
              "2007                 26991           143115.0\n",
              "1997                 29382           143769.0\n",
              "1994                 28225           152587.0\n",
              "1988                 29415           167289.0\n",
              "1984                 30821           168061.0\n",
              "1990                 34265           189258.0\n",
              "1989                 33619           190132.0\n",
              "1991                 36419           204003.0\n",
              "1992                 39532           219331.0\n",
              "2010                 41798           228753.0\n",
              "2009                 44878           235338.0\n",
              "2011                 43999           238245.0\n",
              "2008                 45364           239217.0\n",
              "2012                 67293           361631.0\n",
              "2017                 98275           460624.0\n",
              "2013                 96449           522394.0\n",
              "2016                130317           622642.0\n",
              "2015                136742           679700.0\n",
              "2014                144627           743319.0"
            ],
            "text/html": [
              "\n",
              "  <div id=\"df-dc971de5-9564-403d-ad8c-643a89eb27cb\">\n",
              "    <div class=\"colab-df-container\">\n",
              "      <div>\n",
              "<style scoped>\n",
              "    .dataframe tbody tr th:only-of-type {\n",
              "        vertical-align: middle;\n",
              "    }\n",
              "\n",
              "    .dataframe tbody tr th {\n",
              "        vertical-align: top;\n",
              "    }\n",
              "\n",
              "    .dataframe thead th {\n",
              "        text-align: right;\n",
              "    }\n",
              "</style>\n",
              "<table border=\"1\" class=\"dataframe\">\n",
              "  <thead>\n",
              "    <tr style=\"text-align: right;\">\n",
              "      <th></th>\n",
              "      <th>Expected casualities</th>\n",
              "      <th>Total casualities</th>\n",
              "    </tr>\n",
              "    <tr>\n",
              "      <th>Year</th>\n",
              "      <th></th>\n",
              "      <th></th>\n",
              "    </tr>\n",
              "  </thead>\n",
              "  <tbody>\n",
              "    <tr>\n",
              "      <th>1971</th>\n",
              "      <td>2413</td>\n",
              "      <td>14389.0</td>\n",
              "    </tr>\n",
              "    <tr>\n",
              "      <th>1973</th>\n",
              "      <td>3537</td>\n",
              "      <td>20151.0</td>\n",
              "    </tr>\n",
              "    <tr>\n",
              "      <th>1974</th>\n",
              "      <td>3834</td>\n",
              "      <td>21532.0</td>\n",
              "    </tr>\n",
              "    <tr>\n",
              "      <th>1970</th>\n",
              "      <td>3816</td>\n",
              "      <td>22565.0</td>\n",
              "    </tr>\n",
              "    <tr>\n",
              "      <th>1972</th>\n",
              "      <td>4245</td>\n",
              "      <td>24576.0</td>\n",
              "    </tr>\n",
              "    <tr>\n",
              "      <th>1975</th>\n",
              "      <td>5325</td>\n",
              "      <td>28574.0</td>\n",
              "    </tr>\n",
              "    <tr>\n",
              "      <th>1976</th>\n",
              "      <td>6038</td>\n",
              "      <td>33906.0</td>\n",
              "    </tr>\n",
              "    <tr>\n",
              "      <th>1998</th>\n",
              "      <td>8104</td>\n",
              "      <td>43663.0</td>\n",
              "    </tr>\n",
              "    <tr>\n",
              "      <th>1977</th>\n",
              "      <td>8596</td>\n",
              "      <td>47716.0</td>\n",
              "    </tr>\n",
              "    <tr>\n",
              "      <th>2004</th>\n",
              "      <td>9111</td>\n",
              "      <td>49883.0</td>\n",
              "    </tr>\n",
              "    <tr>\n",
              "      <th>1978</th>\n",
              "      <td>8716</td>\n",
              "      <td>50129.0</td>\n",
              "    </tr>\n",
              "    <tr>\n",
              "      <th>2003</th>\n",
              "      <td>10273</td>\n",
              "      <td>56164.0</td>\n",
              "    </tr>\n",
              "    <tr>\n",
              "      <th>2002</th>\n",
              "      <td>11664</td>\n",
              "      <td>62373.0</td>\n",
              "    </tr>\n",
              "    <tr>\n",
              "      <th>1999</th>\n",
              "      <td>11749</td>\n",
              "      <td>63691.0</td>\n",
              "    </tr>\n",
              "    <tr>\n",
              "      <th>2000</th>\n",
              "      <td>15539</td>\n",
              "      <td>84739.0</td>\n",
              "    </tr>\n",
              "    <tr>\n",
              "      <th>2005</th>\n",
              "      <td>15383</td>\n",
              "      <td>85074.0</td>\n",
              "    </tr>\n",
              "    <tr>\n",
              "      <th>2001</th>\n",
              "      <td>16966</td>\n",
              "      <td>91268.0</td>\n",
              "    </tr>\n",
              "    <tr>\n",
              "      <th>1979</th>\n",
              "      <td>17455</td>\n",
              "      <td>92297.0</td>\n",
              "    </tr>\n",
              "    <tr>\n",
              "      <th>1980</th>\n",
              "      <td>18196</td>\n",
              "      <td>103416.0</td>\n",
              "    </tr>\n",
              "    <tr>\n",
              "      <th>1981</th>\n",
              "      <td>19838</td>\n",
              "      <td>112194.0</td>\n",
              "    </tr>\n",
              "    <tr>\n",
              "      <th>2006</th>\n",
              "      <td>23857</td>\n",
              "      <td>116391.0</td>\n",
              "    </tr>\n",
              "    <tr>\n",
              "      <th>1982</th>\n",
              "      <td>21850</td>\n",
              "      <td>117510.0</td>\n",
              "    </tr>\n",
              "    <tr>\n",
              "      <th>1983</th>\n",
              "      <td>21218</td>\n",
              "      <td>121161.0</td>\n",
              "    </tr>\n",
              "    <tr>\n",
              "      <th>1986</th>\n",
              "      <td>22145</td>\n",
              "      <td>122196.0</td>\n",
              "    </tr>\n",
              "    <tr>\n",
              "      <th>1985</th>\n",
              "      <td>23951</td>\n",
              "      <td>132644.0</td>\n",
              "    </tr>\n",
              "    <tr>\n",
              "      <th>1996</th>\n",
              "      <td>28218</td>\n",
              "      <td>138108.0</td>\n",
              "    </tr>\n",
              "    <tr>\n",
              "      <th>1987</th>\n",
              "      <td>25187</td>\n",
              "      <td>139148.0</td>\n",
              "    </tr>\n",
              "    <tr>\n",
              "      <th>1995</th>\n",
              "      <td>27786</td>\n",
              "      <td>142193.0</td>\n",
              "    </tr>\n",
              "    <tr>\n",
              "      <th>2007</th>\n",
              "      <td>26991</td>\n",
              "      <td>143115.0</td>\n",
              "    </tr>\n",
              "    <tr>\n",
              "      <th>1997</th>\n",
              "      <td>29382</td>\n",
              "      <td>143769.0</td>\n",
              "    </tr>\n",
              "    <tr>\n",
              "      <th>1994</th>\n",
              "      <td>28225</td>\n",
              "      <td>152587.0</td>\n",
              "    </tr>\n",
              "    <tr>\n",
              "      <th>1988</th>\n",
              "      <td>29415</td>\n",
              "      <td>167289.0</td>\n",
              "    </tr>\n",
              "    <tr>\n",
              "      <th>1984</th>\n",
              "      <td>30821</td>\n",
              "      <td>168061.0</td>\n",
              "    </tr>\n",
              "    <tr>\n",
              "      <th>1990</th>\n",
              "      <td>34265</td>\n",
              "      <td>189258.0</td>\n",
              "    </tr>\n",
              "    <tr>\n",
              "      <th>1989</th>\n",
              "      <td>33619</td>\n",
              "      <td>190132.0</td>\n",
              "    </tr>\n",
              "    <tr>\n",
              "      <th>1991</th>\n",
              "      <td>36419</td>\n",
              "      <td>204003.0</td>\n",
              "    </tr>\n",
              "    <tr>\n",
              "      <th>1992</th>\n",
              "      <td>39532</td>\n",
              "      <td>219331.0</td>\n",
              "    </tr>\n",
              "    <tr>\n",
              "      <th>2010</th>\n",
              "      <td>41798</td>\n",
              "      <td>228753.0</td>\n",
              "    </tr>\n",
              "    <tr>\n",
              "      <th>2009</th>\n",
              "      <td>44878</td>\n",
              "      <td>235338.0</td>\n",
              "    </tr>\n",
              "    <tr>\n",
              "      <th>2011</th>\n",
              "      <td>43999</td>\n",
              "      <td>238245.0</td>\n",
              "    </tr>\n",
              "    <tr>\n",
              "      <th>2008</th>\n",
              "      <td>45364</td>\n",
              "      <td>239217.0</td>\n",
              "    </tr>\n",
              "    <tr>\n",
              "      <th>2012</th>\n",
              "      <td>67293</td>\n",
              "      <td>361631.0</td>\n",
              "    </tr>\n",
              "    <tr>\n",
              "      <th>2017</th>\n",
              "      <td>98275</td>\n",
              "      <td>460624.0</td>\n",
              "    </tr>\n",
              "    <tr>\n",
              "      <th>2013</th>\n",
              "      <td>96449</td>\n",
              "      <td>522394.0</td>\n",
              "    </tr>\n",
              "    <tr>\n",
              "      <th>2016</th>\n",
              "      <td>130317</td>\n",
              "      <td>622642.0</td>\n",
              "    </tr>\n",
              "    <tr>\n",
              "      <th>2015</th>\n",
              "      <td>136742</td>\n",
              "      <td>679700.0</td>\n",
              "    </tr>\n",
              "    <tr>\n",
              "      <th>2014</th>\n",
              "      <td>144627</td>\n",
              "      <td>743319.0</td>\n",
              "    </tr>\n",
              "  </tbody>\n",
              "</table>\n",
              "</div>\n",
              "      <button class=\"colab-df-convert\" onclick=\"convertToInteractive('df-dc971de5-9564-403d-ad8c-643a89eb27cb')\"\n",
              "              title=\"Convert this dataframe to an interactive table.\"\n",
              "              style=\"display:none;\">\n",
              "        \n",
              "  <svg xmlns=\"http://www.w3.org/2000/svg\" height=\"24px\"viewBox=\"0 0 24 24\"\n",
              "       width=\"24px\">\n",
              "    <path d=\"M0 0h24v24H0V0z\" fill=\"none\"/>\n",
              "    <path d=\"M18.56 5.44l.94 2.06.94-2.06 2.06-.94-2.06-.94-.94-2.06-.94 2.06-2.06.94zm-11 1L8.5 8.5l.94-2.06 2.06-.94-2.06-.94L8.5 2.5l-.94 2.06-2.06.94zm10 10l.94 2.06.94-2.06 2.06-.94-2.06-.94-.94-2.06-.94 2.06-2.06.94z\"/><path d=\"M17.41 7.96l-1.37-1.37c-.4-.4-.92-.59-1.43-.59-.52 0-1.04.2-1.43.59L10.3 9.45l-7.72 7.72c-.78.78-.78 2.05 0 2.83L4 21.41c.39.39.9.59 1.41.59.51 0 1.02-.2 1.41-.59l7.78-7.78 2.81-2.81c.8-.78.8-2.07 0-2.86zM5.41 20L4 18.59l7.72-7.72 1.47 1.35L5.41 20z\"/>\n",
              "  </svg>\n",
              "      </button>\n",
              "      \n",
              "  <style>\n",
              "    .colab-df-container {\n",
              "      display:flex;\n",
              "      flex-wrap:wrap;\n",
              "      gap: 12px;\n",
              "    }\n",
              "\n",
              "    .colab-df-convert {\n",
              "      background-color: #E8F0FE;\n",
              "      border: none;\n",
              "      border-radius: 50%;\n",
              "      cursor: pointer;\n",
              "      display: none;\n",
              "      fill: #1967D2;\n",
              "      height: 32px;\n",
              "      padding: 0 0 0 0;\n",
              "      width: 32px;\n",
              "    }\n",
              "\n",
              "    .colab-df-convert:hover {\n",
              "      background-color: #E2EBFA;\n",
              "      box-shadow: 0px 1px 2px rgba(60, 64, 67, 0.3), 0px 1px 3px 1px rgba(60, 64, 67, 0.15);\n",
              "      fill: #174EA6;\n",
              "    }\n",
              "\n",
              "    [theme=dark] .colab-df-convert {\n",
              "      background-color: #3B4455;\n",
              "      fill: #D2E3FC;\n",
              "    }\n",
              "\n",
              "    [theme=dark] .colab-df-convert:hover {\n",
              "      background-color: #434B5C;\n",
              "      box-shadow: 0px 1px 3px 1px rgba(0, 0, 0, 0.15);\n",
              "      filter: drop-shadow(0px 1px 2px rgba(0, 0, 0, 0.3));\n",
              "      fill: #FFFFFF;\n",
              "    }\n",
              "  </style>\n",
              "\n",
              "      <script>\n",
              "        const buttonEl =\n",
              "          document.querySelector('#df-dc971de5-9564-403d-ad8c-643a89eb27cb button.colab-df-convert');\n",
              "        buttonEl.style.display =\n",
              "          google.colab.kernel.accessAllowed ? 'block' : 'none';\n",
              "\n",
              "        async function convertToInteractive(key) {\n",
              "          const element = document.querySelector('#df-dc971de5-9564-403d-ad8c-643a89eb27cb');\n",
              "          const dataTable =\n",
              "            await google.colab.kernel.invokeFunction('convertToInteractive',\n",
              "                                                     [key], {});\n",
              "          if (!dataTable) return;\n",
              "\n",
              "          const docLinkHtml = 'Like what you see? Visit the ' +\n",
              "            '<a target=\"_blank\" href=https://colab.research.google.com/notebooks/data_table.ipynb>data table notebook</a>'\n",
              "            + ' to learn more about interactive tables.';\n",
              "          element.innerHTML = '';\n",
              "          dataTable['output_type'] = 'display_data';\n",
              "          await google.colab.output.renderOutput(dataTable, element);\n",
              "          const docLink = document.createElement('div');\n",
              "          docLink.innerHTML = docLinkHtml;\n",
              "          element.appendChild(docLink);\n",
              "        }\n",
              "      </script>\n",
              "    </div>\n",
              "  </div>\n",
              "  "
            ]
          },
          "metadata": {},
          "execution_count": 17
        }
      ]
    },
    {
      "cell_type": "code",
      "source": [
        "#finding the last 10 desasterous years in which there was a highest casuality occurance rate \n",
        "avg_tail = avg_casualities.sort_values(\"Total casualities\").tail(10)"
      ],
      "metadata": {
        "id": "VKk5P5_GOi5D"
      },
      "execution_count": null,
      "outputs": []
    },
    {
      "cell_type": "code",
      "source": [
        "#plot of graph of above context\n",
        "avg_tail.plot.bar(figsize = (8,5),fontsize = 15)\n",
        "plt.xlabel('Year')\n",
        "plt.ylabel('Casuality')\n",
        "plt.title('Casuality v/s Year')\n",
        "plt.show()"
      ],
      "metadata": {
        "colab": {
          "base_uri": "https://localhost:8080/",
          "height": 378
        },
        "id": "fmzkEoH-Ooz8",
        "outputId": "d5eb8523-af09-4eff-800e-bd25c3821c26"
      },
      "execution_count": null,
      "outputs": [
        {
          "output_type": "display_data",
          "data": {
            "text/plain": [
              "<Figure size 576x360 with 1 Axes>"
            ],
            "image/png": "[encoded data removed]"
          },
          "metadata": {
            "needs_background": "light"
          }
        }
      ]
    },
    {
      "cell_type": "markdown",
      "source": [
        "Extracting top 10 year data in which mean of death rate is each month is highest than that of others."
      ],
      "metadata": {
        "id": "7RfYr3BJhyFR"
      }
    },
    {
      "cell_type": "code",
      "source": [
        "#least casuality 10 occurance years\n",
        "avg_head = avg_casualities.sort_values(\"Total casualities\").head(10)"
      ],
      "metadata": {
        "id": "TT7xSnLeOvL7"
      },
      "execution_count": null,
      "outputs": []
    },
    {
      "cell_type": "code",
      "source": [
        "#ploting of graph of above context\n",
        "a_h = avg_head.plot.bar(figsize = (8,5),fontsize = 10)\n",
        "plt.xlabel('Year')\n",
        "plt.ylabel('Casualities')\n",
        "plt.title('Casuality v/s Year')\n",
        "plt.show()"
      ],
      "metadata": {
        "colab": {
          "base_uri": "https://localhost:8080/",
          "height": 365
        },
        "id": "DvJ7udZtO0lb",
        "outputId": "101221e7-2969-42a3-f2f8-53614b6bfd1c"
      },
      "execution_count": null,
      "outputs": [
        {
          "output_type": "display_data",
          "data": {
            "text/plain": [
              "<Figure size 576x360 with 1 Axes>"
            ],
            "image/png": "[encoded data removed]"
          },
          "metadata": {
            "needs_background": "light"
          }
        }
      ]
    },
    {
      "cell_type": "markdown",
      "source": [
        "## 3). ATTACK TYPE AND CAUSALITUIES OCCURANCE\n",
        "The most general task to analyze that which type of weapon is mostly used in case of higher the causalities (death) rate. "
      ],
      "metadata": {
        "id": "JuoLYZYPIqIz"
      }
    },
    {
      "cell_type": "code",
      "source": [
        "attack_death = gt_df[[\"Attacktype\",\"Total casualities\"]]\n",
        "attack_death"
      ],
      "metadata": {
        "colab": {
          "base_uri": "https://localhost:8080/",
          "height": 424
        },
        "id": "0hzxVZQ4GzsO",
        "outputId": "21bab4f6-73ef-4039-a0d6-7a80ca91e847"
      },
      "execution_count": null,
      "outputs": [
        {
          "output_type": "execute_result",
          "data": {
            "text/plain": [
              "                            Attacktype  Total casualities\n",
              "0                        Assassination               68.0\n",
              "1          Hostage Taking (Kidnapping)               45.0\n",
              "2                        Assassination               54.0\n",
              "3                    Bombing/Explosion               46.0\n",
              "4       Facility/Infrastructure Attack               46.0\n",
              "...                                ...                ...\n",
              "181686                   Armed Assault               36.0\n",
              "181687               Bombing/Explosion               27.0\n",
              "181688  Facility/Infrastructure Attack               76.0\n",
              "181689               Bombing/Explosion               21.0\n",
              "181690               Bombing/Explosion                NaN\n",
              "\n",
              "[181691 rows x 2 columns]"
            ],
            "text/html": [
              "\n",
              "  <div id=\"df-c3e4c8b8-e390-4166-80d0-ee89c5850075\">\n",
              "    <div class=\"colab-df-container\">\n",
              "      <div>\n",
              "<style scoped>\n",
              "    .dataframe tbody tr th:only-of-type {\n",
              "        vertical-align: middle;\n",
              "    }\n",
              "\n",
              "    .dataframe tbody tr th {\n",
              "        vertical-align: top;\n",
              "    }\n",
              "\n",
              "    .dataframe thead th {\n",
              "        text-align: right;\n",
              "    }\n",
              "</style>\n",
              "<table border=\"1\" class=\"dataframe\">\n",
              "  <thead>\n",
              "    <tr style=\"text-align: right;\">\n",
              "      <th></th>\n",
              "      <th>Attacktype</th>\n",
              "      <th>Total casualities</th>\n",
              "    </tr>\n",
              "  </thead>\n",
              "  <tbody>\n",
              "    <tr>\n",
              "      <th>0</th>\n",
              "      <td>Assassination</td>\n",
              "      <td>68.0</td>\n",
              "    </tr>\n",
              "    <tr>\n",
              "      <th>1</th>\n",
              "      <td>Hostage Taking (Kidnapping)</td>\n",
              "      <td>45.0</td>\n",
              "    </tr>\n",
              "    <tr>\n",
              "      <th>2</th>\n",
              "      <td>Assassination</td>\n",
              "      <td>54.0</td>\n",
              "    </tr>\n",
              "    <tr>\n",
              "      <th>3</th>\n",
              "      <td>Bombing/Explosion</td>\n",
              "      <td>46.0</td>\n",
              "    </tr>\n",
              "    <tr>\n",
              "      <th>4</th>\n",
              "      <td>Facility/Infrastructure Attack</td>\n",
              "      <td>46.0</td>\n",
              "    </tr>\n",
              "    <tr>\n",
              "      <th>...</th>\n",
              "      <td>...</td>\n",
              "      <td>...</td>\n",
              "    </tr>\n",
              "    <tr>\n",
              "      <th>181686</th>\n",
              "      <td>Armed Assault</td>\n",
              "      <td>36.0</td>\n",
              "    </tr>\n",
              "    <tr>\n",
              "      <th>181687</th>\n",
              "      <td>Bombing/Explosion</td>\n",
              "      <td>27.0</td>\n",
              "    </tr>\n",
              "    <tr>\n",
              "      <th>181688</th>\n",
              "      <td>Facility/Infrastructure Attack</td>\n",
              "      <td>76.0</td>\n",
              "    </tr>\n",
              "    <tr>\n",
              "      <th>181689</th>\n",
              "      <td>Bombing/Explosion</td>\n",
              "      <td>21.0</td>\n",
              "    </tr>\n",
              "    <tr>\n",
              "      <th>181690</th>\n",
              "      <td>Bombing/Explosion</td>\n",
              "      <td>NaN</td>\n",
              "    </tr>\n",
              "  </tbody>\n",
              "</table>\n",
              "<p>181691 rows × 2 columns</p>\n",
              "</div>\n",
              "      <button class=\"colab-df-convert\" onclick=\"convertToInteractive('df-c3e4c8b8-e390-4166-80d0-ee89c5850075')\"\n",
              "              title=\"Convert this dataframe to an interactive table.\"\n",
              "              style=\"display:none;\">\n",
              "        \n",
              "  <svg xmlns=\"http://www.w3.org/2000/svg\" height=\"24px\"viewBox=\"0 0 24 24\"\n",
              "       width=\"24px\">\n",
              "    <path d=\"M0 0h24v24H0V0z\" fill=\"none\"/>\n",
              "    <path d=\"M18.56 5.44l.94 2.06.94-2.06 2.06-.94-2.06-.94-.94-2.06-.94 2.06-2.06.94zm-11 1L8.5 8.5l.94-2.06 2.06-.94-2.06-.94L8.5 2.5l-.94 2.06-2.06.94zm10 10l.94 2.06.94-2.06 2.06-.94-2.06-.94-.94-2.06-.94 2.06-2.06.94z\"/><path d=\"M17.41 7.96l-1.37-1.37c-.4-.4-.92-.59-1.43-.59-.52 0-1.04.2-1.43.59L10.3 9.45l-7.72 7.72c-.78.78-.78 2.05 0 2.83L4 21.41c.39.39.9.59 1.41.59.51 0 1.02-.2 1.41-.59l7.78-7.78 2.81-2.81c.8-.78.8-2.07 0-2.86zM5.41 20L4 18.59l7.72-7.72 1.47 1.35L5.41 20z\"/>\n",
              "  </svg>\n",
              "      </button>\n",
              "      \n",
              "  <style>\n",
              "    .colab-df-container {\n",
              "      display:flex;\n",
              "      flex-wrap:wrap;\n",
              "      gap: 12px;\n",
              "    }\n",
              "\n",
              "    .colab-df-convert {\n",
              "      background-color: #E8F0FE;\n",
              "      border: none;\n",
              "      border-radius: 50%;\n",
              "      cursor: pointer;\n",
              "      display: none;\n",
              "      fill: #1967D2;\n",
              "      height: 32px;\n",
              "      padding: 0 0 0 0;\n",
              "      width: 32px;\n",
              "    }\n",
              "\n",
              "    .colab-df-convert:hover {\n",
              "      background-color: #E2EBFA;\n",
              "      box-shadow: 0px 1px 2px rgba(60, 64, 67, 0.3), 0px 1px 3px 1px rgba(60, 64, 67, 0.15);\n",
              "      fill: #174EA6;\n",
              "    }\n",
              "\n",
              "    [theme=dark] .colab-df-convert {\n",
              "      background-color: #3B4455;\n",
              "      fill: #D2E3FC;\n",
              "    }\n",
              "\n",
              "    [theme=dark] .colab-df-convert:hover {\n",
              "      background-color: #434B5C;\n",
              "      box-shadow: 0px 1px 3px 1px rgba(0, 0, 0, 0.15);\n",
              "      filter: drop-shadow(0px 1px 2px rgba(0, 0, 0, 0.3));\n",
              "      fill: #FFFFFF;\n",
              "    }\n",
              "  </style>\n",
              "\n",
              "      <script>\n",
              "        const buttonEl =\n",
              "          document.querySelector('#df-c3e4c8b8-e390-4166-80d0-ee89c5850075 button.colab-df-convert');\n",
              "        buttonEl.style.display =\n",
              "          google.colab.kernel.accessAllowed ? 'block' : 'none';\n",
              "\n",
              "        async function convertToInteractive(key) {\n",
              "          const element = document.querySelector('#df-c3e4c8b8-e390-4166-80d0-ee89c5850075');\n",
              "          const dataTable =\n",
              "            await google.colab.kernel.invokeFunction('convertToInteractive',\n",
              "                                                     [key], {});\n",
              "          if (!dataTable) return;\n",
              "\n",
              "          const docLinkHtml = 'Like what you see? Visit the ' +\n",
              "            '<a target=\"_blank\" href=https://colab.research.google.com/notebooks/data_table.ipynb>data table notebook</a>'\n",
              "            + ' to learn more about interactive tables.';\n",
              "          element.innerHTML = '';\n",
              "          dataTable['output_type'] = 'display_data';\n",
              "          await google.colab.output.renderOutput(dataTable, element);\n",
              "          const docLink = document.createElement('div');\n",
              "          docLink.innerHTML = docLinkHtml;\n",
              "          element.appendChild(docLink);\n",
              "        }\n",
              "      </script>\n",
              "    </div>\n",
              "  </div>\n",
              "  "
            ]
          },
          "metadata": {},
          "execution_count": 23
        }
      ]
    },
    {
      "cell_type": "code",
      "source": [
        "a_d = attack_death.groupby([\"Attacktype\"])[\"Total casualities\"].sum()\n",
        "a_d"
      ],
      "metadata": {
        "colab": {
          "base_uri": "https://localhost:8080/"
        },
        "id": "esnRvodzHfST",
        "outputId": "efbb1abf-9b71-49be-ef8c-a8a8e2f5c3f7"
      },
      "execution_count": null,
      "outputs": [
        {
          "output_type": "execute_result",
          "data": {
            "text/plain": [
              "Attacktype\n",
              "Armed Assault                          1864299.0\n",
              "Assassination                           790797.0\n",
              "Bombing/Explosion                      3968813.0\n",
              "Facility/Infrastructure Attack          438622.0\n",
              "Hijacking                                31323.0\n",
              "Hostage Taking (Barricade Incident)      45043.0\n",
              "Hostage Taking (Kidnapping)             534374.0\n",
              "Unarmed Assault                          51258.0\n",
              "Unknown                                 322530.0\n",
              "Name: Total casualities, dtype: float64"
            ]
          },
          "metadata": {},
          "execution_count": 24
        }
      ]
    },
    {
      "cell_type": "code",
      "source": [
        "a_d.plot.bar(figsize = (8,5),fontsize = 10)\n",
        "plt.title(\"Attack v/s kill Ratio\")\n",
        "plt.xlabel(\"Type of attacks\")\n",
        "plt.ylabel(\"Total no of kills\")"
      ],
      "metadata": {
        "colab": {
          "base_uri": "https://localhost:8080/",
          "height": 535
        },
        "id": "vnnurHbmIC2G",
        "outputId": "8985087e-f0aa-445a-b09a-9c39b06b4e53"
      },
      "execution_count": null,
      "outputs": [
        {
          "output_type": "execute_result",
          "data": {
            "text/plain": [
              "Text(0, 0.5, 'Total no of kills')"
            ]
          },
          "metadata": {},
          "execution_count": 25
        },
        {
          "output_type": "display_data",
          "data": {
            "text/plain": [
              "<Figure size 576x360 with 1 Axes>"
            ],
            "image/png": "[encoded data removed]"
          },
          "metadata": {
            "needs_background": "light"
          }
        }
      ]
    },
    {
      "cell_type": "markdown",
      "source": [
        "## 4. WHICH COUNTRY HAS MOST NO OF CASUALITIES?\n",
        "\n",
        "Now, we are heading towards, to find the country which is highely affected due to Terror Attacks in pastt few years. We will also goin to find top 10 countries from the data which is highly affected. And will also check total quantities death occured from 1970 to 2017."
      ],
      "metadata": {
        "id": "09G0yi8oauLN"
      }
    },
    {
      "cell_type": "code",
      "source": [
        "#geatherig of data for anlysing which country has highest casuality occurance rate.\n",
        "second_data = gt_df[[\"Country\",\"Total casualities\"]]\n",
        "second_data"
      ],
      "metadata": {
        "colab": {
          "base_uri": "https://localhost:8080/",
          "height": 424
        },
        "id": "KPKYjijfNWQk",
        "outputId": "b8148f11-c710-43b7-f474-1e0284520171"
      },
      "execution_count": null,
      "outputs": [
        {
          "output_type": "execute_result",
          "data": {
            "text/plain": [
              "                   Country  Total casualities\n",
              "0       Dominican Republic               68.0\n",
              "1                   Mexico               45.0\n",
              "2              Philippines               54.0\n",
              "3                   Greece               46.0\n",
              "4                    Japan               46.0\n",
              "...                    ...                ...\n",
              "181686             Somalia               36.0\n",
              "181687               Syria               27.0\n",
              "181688         Philippines               76.0\n",
              "181689               India               21.0\n",
              "181690         Philippines                NaN\n",
              "\n",
              "[181691 rows x 2 columns]"
            ],
            "text/html": [
              "\n",
              "  <div id=\"df-ab6e5099-dac5-44f9-8e2f-2ecfe05052e6\">\n",
              "    <div class=\"colab-df-container\">\n",
              "      <div>\n",
              "<style scoped>\n",
              "    .dataframe tbody tr th:only-of-type {\n",
              "        vertical-align: middle;\n",
              "    }\n",
              "\n",
              "    .dataframe tbody tr th {\n",
              "        vertical-align: top;\n",
              "    }\n",
              "\n",
              "    .dataframe thead th {\n",
              "        text-align: right;\n",
              "    }\n",
              "</style>\n",
              "<table border=\"1\" class=\"dataframe\">\n",
              "  <thead>\n",
              "    <tr style=\"text-align: right;\">\n",
              "      <th></th>\n",
              "      <th>Country</th>\n",
              "      <th>Total casualities</th>\n",
              "    </tr>\n",
              "  </thead>\n",
              "  <tbody>\n",
              "    <tr>\n",
              "      <th>0</th>\n",
              "      <td>Dominican Republic</td>\n",
              "      <td>68.0</td>\n",
              "    </tr>\n",
              "    <tr>\n",
              "      <th>1</th>\n",
              "      <td>Mexico</td>\n",
              "      <td>45.0</td>\n",
              "    </tr>\n",
              "    <tr>\n",
              "      <th>2</th>\n",
              "      <td>Philippines</td>\n",
              "      <td>54.0</td>\n",
              "    </tr>\n",
              "    <tr>\n",
              "      <th>3</th>\n",
              "      <td>Greece</td>\n",
              "      <td>46.0</td>\n",
              "    </tr>\n",
              "    <tr>\n",
              "      <th>4</th>\n",
              "      <td>Japan</td>\n",
              "      <td>46.0</td>\n",
              "    </tr>\n",
              "    <tr>\n",
              "      <th>...</th>\n",
              "      <td>...</td>\n",
              "      <td>...</td>\n",
              "    </tr>\n",
              "    <tr>\n",
              "      <th>181686</th>\n",
              "      <td>Somalia</td>\n",
              "      <td>36.0</td>\n",
              "    </tr>\n",
              "    <tr>\n",
              "      <th>181687</th>\n",
              "      <td>Syria</td>\n",
              "      <td>27.0</td>\n",
              "    </tr>\n",
              "    <tr>\n",
              "      <th>181688</th>\n",
              "      <td>Philippines</td>\n",
              "      <td>76.0</td>\n",
              "    </tr>\n",
              "    <tr>\n",
              "      <th>181689</th>\n",
              "      <td>India</td>\n",
              "      <td>21.0</td>\n",
              "    </tr>\n",
              "    <tr>\n",
              "      <th>181690</th>\n",
              "      <td>Philippines</td>\n",
              "      <td>NaN</td>\n",
              "    </tr>\n",
              "  </tbody>\n",
              "</table>\n",
              "<p>181691 rows × 2 columns</p>\n",
              "</div>\n",
              "      <button class=\"colab-df-convert\" onclick=\"convertToInteractive('df-ab6e5099-dac5-44f9-8e2f-2ecfe05052e6')\"\n",
              "              title=\"Convert this dataframe to an interactive table.\"\n",
              "              style=\"display:none;\">\n",
              "        \n",
              "  <svg xmlns=\"http://www.w3.org/2000/svg\" height=\"24px\"viewBox=\"0 0 24 24\"\n",
              "       width=\"24px\">\n",
              "    <path d=\"M0 0h24v24H0V0z\" fill=\"none\"/>\n",
              "    <path d=\"M18.56 5.44l.94 2.06.94-2.06 2.06-.94-2.06-.94-.94-2.06-.94 2.06-2.06.94zm-11 1L8.5 8.5l.94-2.06 2.06-.94-2.06-.94L8.5 2.5l-.94 2.06-2.06.94zm10 10l.94 2.06.94-2.06 2.06-.94-2.06-.94-.94-2.06-.94 2.06-2.06.94z\"/><path d=\"M17.41 7.96l-1.37-1.37c-.4-.4-.92-.59-1.43-.59-.52 0-1.04.2-1.43.59L10.3 9.45l-7.72 7.72c-.78.78-.78 2.05 0 2.83L4 21.41c.39.39.9.59 1.41.59.51 0 1.02-.2 1.41-.59l7.78-7.78 2.81-2.81c.8-.78.8-2.07 0-2.86zM5.41 20L4 18.59l7.72-7.72 1.47 1.35L5.41 20z\"/>\n",
              "  </svg>\n",
              "      </button>\n",
              "      \n",
              "  <style>\n",
              "    .colab-df-container {\n",
              "      display:flex;\n",
              "      flex-wrap:wrap;\n",
              "      gap: 12px;\n",
              "    }\n",
              "\n",
              "    .colab-df-convert {\n",
              "      background-color: #E8F0FE;\n",
              "      border: none;\n",
              "      border-radius: 50%;\n",
              "      cursor: pointer;\n",
              "      display: none;\n",
              "      fill: #1967D2;\n",
              "      height: 32px;\n",
              "      padding: 0 0 0 0;\n",
              "      width: 32px;\n",
              "    }\n",
              "\n",
              "    .colab-df-convert:hover {\n",
              "      background-color: #E2EBFA;\n",
              "      box-shadow: 0px 1px 2px rgba(60, 64, 67, 0.3), 0px 1px 3px 1px rgba(60, 64, 67, 0.15);\n",
              "      fill: #174EA6;\n",
              "    }\n",
              "\n",
              "    [theme=dark] .colab-df-convert {\n",
              "      background-color: #3B4455;\n",
              "      fill: #D2E3FC;\n",
              "    }\n",
              "\n",
              "    [theme=dark] .colab-df-convert:hover {\n",
              "      background-color: #434B5C;\n",
              "      box-shadow: 0px 1px 3px 1px rgba(0, 0, 0, 0.15);\n",
              "      filter: drop-shadow(0px 1px 2px rgba(0, 0, 0, 0.3));\n",
              "      fill: #FFFFFF;\n",
              "    }\n",
              "  </style>\n",
              "\n",
              "      <script>\n",
              "        const buttonEl =\n",
              "          document.querySelector('#df-ab6e5099-dac5-44f9-8e2f-2ecfe05052e6 button.colab-df-convert');\n",
              "        buttonEl.style.display =\n",
              "          google.colab.kernel.accessAllowed ? 'block' : 'none';\n",
              "\n",
              "        async function convertToInteractive(key) {\n",
              "          const element = document.querySelector('#df-ab6e5099-dac5-44f9-8e2f-2ecfe05052e6');\n",
              "          const dataTable =\n",
              "            await google.colab.kernel.invokeFunction('convertToInteractive',\n",
              "                                                     [key], {});\n",
              "          if (!dataTable) return;\n",
              "\n",
              "          const docLinkHtml = 'Like what you see? Visit the ' +\n",
              "            '<a target=\"_blank\" href=https://colab.research.google.com/notebooks/data_table.ipynb>data table notebook</a>'\n",
              "            + ' to learn more about interactive tables.';\n",
              "          element.innerHTML = '';\n",
              "          dataTable['output_type'] = 'display_data';\n",
              "          await google.colab.output.renderOutput(dataTable, element);\n",
              "          const docLink = document.createElement('div');\n",
              "          docLink.innerHTML = docLinkHtml;\n",
              "          element.appendChild(docLink);\n",
              "        }\n",
              "      </script>\n",
              "    </div>\n",
              "  </div>\n",
              "  "
            ]
          },
          "metadata": {},
          "execution_count": 26
        }
      ]
    },
    {
      "cell_type": "code",
      "source": [
        "#extraction of sum casuality occured w.r.t to specific country \n",
        "country_data = second_data.groupby([\"Country\"])[\"Total casualities\"].sum()\n",
        "country_data"
      ],
      "metadata": {
        "colab": {
          "base_uri": "https://localhost:8080/"
        },
        "id": "s1Kw7nwALR1m",
        "outputId": "f13e4058-5959-443e-fa90-5e8b2d555946"
      },
      "execution_count": null,
      "outputs": [
        {
          "output_type": "execute_result",
          "data": {
            "text/plain": [
              "Country\n",
              "Afghanistan    478086.0\n",
              "Albania          2835.0\n",
              "Algeria        126383.0\n",
              "Andorra             3.0\n",
              "Angola          36201.0\n",
              "                 ...   \n",
              "Yemen          161018.0\n",
              "Yugoslavia       7375.0\n",
              "Zaire            2432.0\n",
              "Zambia           3806.0\n",
              "Zimbabwe         5487.0\n",
              "Name: Total casualities, Length: 205, dtype: float64"
            ]
          },
          "metadata": {},
          "execution_count": 27
        }
      ]
    },
    {
      "cell_type": "markdown",
      "source": [
        "Here we have finded the overall occurance of death from each country from 1970-2017."
      ],
      "metadata": {
        "id": "TScE3ZGBj9f5"
      }
    },
    {
      "cell_type": "code",
      "source": [
        "#overall data of casuality occured in each country since 1970 to 2017\n",
        "country_data.plot.bar(figsize = (45,5),fontsize = 15)\n",
        "plt.xlabel(\"Country\")\n",
        "plt.ylabel(\"Total Casualities  in 1e6\")\n",
        "plt.title(\"Country v/s Total Casuality occured\")"
      ],
      "metadata": {
        "colab": {
          "base_uri": "https://localhost:8080/",
          "height": 354
        },
        "id": "wRgJCiH8Qc0D",
        "outputId": "1d3a80cc-8747-4ee6-83e3-e4d6b070552d"
      },
      "execution_count": null,
      "outputs": [
        {
          "output_type": "execute_result",
          "data": {
            "text/plain": [
              "Text(0.5, 1.0, 'Country v/s Total Casuality occured')"
            ]
          },
          "metadata": {},
          "execution_count": 28
        },
        {
          "output_type": "display_data",
          "data": {
            "text/plain": [
              "<Figure size 3240x360 with 1 Axes>"
            ],
            "image/png": "[encoded data removed]"
          },
          "metadata": {
            "needs_background": "light"
          }
        }
      ]
    },
    {
      "cell_type": "code",
      "source": [
        "#sorting of the above data to covert them in the ascending order\n",
        "sorted_list = country_data.sort_values()\n",
        "sorted_list"
      ],
      "metadata": {
        "id": "i-dq-g_wRi8w",
        "colab": {
          "base_uri": "https://localhost:8080/"
        },
        "outputId": "4f5b4dfe-9f9d-4336-b435-f8e142f0c378"
      },
      "execution_count": null,
      "outputs": [
        {
          "output_type": "execute_result",
          "data": {
            "text/plain": [
              "Country\n",
              "Andorra                      3.0\n",
              "Antigua and Barbuda         15.0\n",
              "North Korea                 15.0\n",
              "Wallis and Futuna           21.0\n",
              "Mauritius                   34.0\n",
              "                         ...    \n",
              "Colombia                367581.0\n",
              "Afghanistan             478086.0\n",
              "India                   540762.0\n",
              "Pakistan                712996.0\n",
              "Iraq                   1134748.0\n",
              "Name: Total casualities, Length: 205, dtype: float64"
            ]
          },
          "metadata": {},
          "execution_count": 29
        }
      ]
    },
    {
      "cell_type": "code",
      "source": [
        "#finding the highly volatile country in terms of highest no of casuality occued in the specific country\n",
        "sorted_list.tail(10)"
      ],
      "metadata": {
        "colab": {
          "base_uri": "https://localhost:8080/"
        },
        "id": "K5u74_oyR4Fy",
        "outputId": "7ac0f3fa-9914-4da1-c5ad-7f6de0ea620b"
      },
      "execution_count": null,
      "outputs": [
        {
          "output_type": "execute_result",
          "data": {
            "text/plain": [
              "Country\n",
              "Nigeria            213151.0\n",
              "United Kingdom     219171.0\n",
              "Philippines        259598.0\n",
              "Peru               266076.0\n",
              "El Salvador        279345.0\n",
              "Colombia           367581.0\n",
              "Afghanistan        478086.0\n",
              "India              540762.0\n",
              "Pakistan           712996.0\n",
              "Iraq              1134748.0\n",
              "Name: Total casualities, dtype: float64"
            ]
          },
          "metadata": {},
          "execution_count": 30
        }
      ]
    },
    {
      "cell_type": "markdown",
      "source": [
        "As obviously if we start to talk abount Terror Attacks so it is impossible to not to talk about casualities(death) occurance rate from each of the country. \n",
        "\n",
        "So, here we had extracted the top 10 countries datas in which highest no of occurance of casualities was there in between 1970-2017."
      ],
      "metadata": {
        "id": "m9iWpyUDkZgn"
      }
    },
    {
      "cell_type": "code",
      "source": [
        "#printing of the plot from the above extracted data\n",
        "sorted_list.tail(10).plot.bar(figsize = (8,5),fontsize = 10)\n",
        "plt.xlabel(\"Country\")\n",
        "plt.ylabel(\"Total Casualitie x 1e6\")\n",
        "plt.title(\"Country v/s Total Casuality occured\")"
      ],
      "metadata": {
        "colab": {
          "base_uri": "https://localhost:8080/",
          "height": 437
        },
        "id": "O3torkS6TgtO",
        "outputId": "807944bf-f891-44e8-fb2f-fd263316a496"
      },
      "execution_count": null,
      "outputs": [
        {
          "output_type": "execute_result",
          "data": {
            "text/plain": [
              "Text(0.5, 1.0, 'Country v/s Total Casuality occured')"
            ]
          },
          "metadata": {},
          "execution_count": 31
        },
        {
          "output_type": "display_data",
          "data": {
            "text/plain": [
              "<Figure size 576x360 with 1 Axes>"
            ],
            "image/png": "[encoded data removed]"
          },
          "metadata": {
            "needs_background": "light"
          }
        }
      ]
    },
    {
      "cell_type": "code",
      "source": [
        "# finding the statistical forms from teh same data to describe them: fro ex \"mean\",\"median\".\"mode\",\"max\",\"min\" etc\n",
        "f = country_data.describe()\n",
        "f"
      ],
      "metadata": {
        "colab": {
          "base_uri": "https://localhost:8080/"
        },
        "id": "_B_b2LfI8ULD",
        "outputId": "f4fdf3b7-1753-46ae-8b58-c1e320f83e2b"
      },
      "execution_count": null,
      "outputs": [
        {
          "output_type": "execute_result",
          "data": {
            "text/plain": [
              "count    2.050000e+02\n",
              "mean     3.925395e+04\n",
              "std      1.166154e+05\n",
              "min      3.000000e+00\n",
              "25%      5.330000e+02\n",
              "50%      2.789000e+03\n",
              "75%      1.657000e+04\n",
              "max      1.134748e+06\n",
              "Name: Total casualities, dtype: float64"
            ]
          },
          "metadata": {},
          "execution_count": 32
        }
      ]
    },
    {
      "cell_type": "code",
      "source": [
        "# Total percentage (%) of casualities occuring in IRAQ againt the casualities occured in whole word\n",
        "Iraq_casualities = (f.max()/8047059)*100\n",
        "f_Iraq_casualities = \"{:.1f}\".format(Iraq_casualities)\n",
        "print(f'The percentage of casualities occused in IRAQ w.r.t all WORLD is {f_Iraq_casualities}%')"
      ],
      "metadata": {
        "colab": {
          "base_uri": "https://localhost:8080/"
        },
        "id": "BI1w-kJG8aGC",
        "outputId": "80acc6a8-2aca-4daa-ec76-511d96f349f0"
      },
      "execution_count": null,
      "outputs": [
        {
          "output_type": "stream",
          "name": "stdout",
          "text": [
            "The percentage of casualities occused in IRAQ w.r.t all WORLD is 14.1%\n"
          ]
        }
      ]
    },
    {
      "cell_type": "markdown",
      "source": [
        "As from above graph we have observed that occurance of casualities in \"IRAQ\" is the highest then that of other country. Which is all about 14.10 % of casualities occurance among of the world."
      ],
      "metadata": {
        "id": "mzhSSDaZ9Er0"
      }
    },
    {
      "cell_type": "code",
      "source": [
        "# finding the least volitile country in terms of Terrorist Attack and casualities occurance\n",
        "least_casuality_country = sorted_list.head(10)\n",
        "least_casuality_country"
      ],
      "metadata": {
        "colab": {
          "base_uri": "https://localhost:8080/"
        },
        "id": "f4xL07zXTm4U",
        "outputId": "0591b616-9470-4a7c-86a9-c119b889a3e0"
      },
      "execution_count": null,
      "outputs": [
        {
          "output_type": "execute_result",
          "data": {
            "text/plain": [
              "Country\n",
              "Andorra                 3.0\n",
              "Antigua and Barbuda    15.0\n",
              "North Korea            15.0\n",
              "Wallis and Futuna      21.0\n",
              "Mauritius              34.0\n",
              "Vanuatu                35.0\n",
              "South Vietnam          42.0\n",
              "Turkmenistan           46.0\n",
              "New Hebrides           54.0\n",
              "Falkland Islands       58.0\n",
              "Name: Total casualities, dtype: float64"
            ]
          },
          "metadata": {},
          "execution_count": 34
        }
      ]
    },
    {
      "cell_type": "code",
      "source": [
        "#ploting the graph from the above data and finding the least volatile country in terms of casuality\n",
        "least_casuality_country.plot.bar(figsize = (8,5),fontsize = 10)\n",
        "plt.xlabel(\"Country\")\n",
        "plt.ylabel(\"Total Casualities\")\n",
        "plt.title(\"Country v/s Total Casuality occured\")"
      ],
      "metadata": {
        "colab": {
          "base_uri": "https://localhost:8080/",
          "height": 463
        },
        "id": "J-AIjSW9T1Bt",
        "outputId": "97fd97bd-d491-43cf-a04d-d2d83c44614b"
      },
      "execution_count": null,
      "outputs": [
        {
          "output_type": "execute_result",
          "data": {
            "text/plain": [
              "Text(0.5, 1.0, 'Country v/s Total Casuality occured')"
            ]
          },
          "metadata": {},
          "execution_count": 35
        },
        {
          "output_type": "display_data",
          "data": {
            "text/plain": [
              "<Figure size 576x360 with 1 Axes>"
            ],
            "image/png": "[encoded data removed]"
          },
          "metadata": {
            "needs_background": "light"
          }
        }
      ]
    },
    {
      "cell_type": "markdown",
      "source": [
        "## Types of Attacks conducted by Terror groups & the weapons which is mostly being used in the Terror Attacks.\n",
        "\n",
        "If we are talking about Terror Attacks so it is really very general to have a question like which kind of attacks is been conducted by the different terror groups & which kind of weapon has mostly been used to conduct a Terror Attack."
      ],
      "metadata": {
        "id": "k87nGoiLUySD"
      }
    },
    {
      "cell_type": "markdown",
      "source": [
        "##5) **Most common Attack types used by Terrorists**"
      ],
      "metadata": {
        "id": "1LrXxmg2oo5w"
      }
    },
    {
      "cell_type": "code",
      "source": [
        "#Finding the Type of Terror Attacks which is mostly being conducted by the Terror Groups.\n",
        "attack = gt_df[[\"Attacktype\"]]\n",
        "attack\n"
      ],
      "metadata": {
        "id": "oTQRusvLT-ls",
        "colab": {
          "base_uri": "https://localhost:8080/",
          "height": 424
        },
        "outputId": "0b09c730-5ec0-4a23-ad11-475626be0939"
      },
      "execution_count": null,
      "outputs": [
        {
          "output_type": "execute_result",
          "data": {
            "text/plain": [
              "                            Attacktype\n",
              "0                        Assassination\n",
              "1          Hostage Taking (Kidnapping)\n",
              "2                        Assassination\n",
              "3                    Bombing/Explosion\n",
              "4       Facility/Infrastructure Attack\n",
              "...                                ...\n",
              "181686                   Armed Assault\n",
              "181687               Bombing/Explosion\n",
              "181688  Facility/Infrastructure Attack\n",
              "181689               Bombing/Explosion\n",
              "181690               Bombing/Explosion\n",
              "\n",
              "[181691 rows x 1 columns]"
            ],
            "text/html": [
              "\n",
              "  <div id=\"df-f7b295eb-c229-4204-80d0-8e702505c312\">\n",
              "    <div class=\"colab-df-container\">\n",
              "      <div>\n",
              "<style scoped>\n",
              "    .dataframe tbody tr th:only-of-type {\n",
              "        vertical-align: middle;\n",
              "    }\n",
              "\n",
              "    .dataframe tbody tr th {\n",
              "        vertical-align: top;\n",
              "    }\n",
              "\n",
              "    .dataframe thead th {\n",
              "        text-align: right;\n",
              "    }\n",
              "</style>\n",
              "<table border=\"1\" class=\"dataframe\">\n",
              "  <thead>\n",
              "    <tr style=\"text-align: right;\">\n",
              "      <th></th>\n",
              "      <th>Attacktype</th>\n",
              "    </tr>\n",
              "  </thead>\n",
              "  <tbody>\n",
              "    <tr>\n",
              "      <th>0</th>\n",
              "      <td>Assassination</td>\n",
              "    </tr>\n",
              "    <tr>\n",
              "      <th>1</th>\n",
              "      <td>Hostage Taking (Kidnapping)</td>\n",
              "    </tr>\n",
              "    <tr>\n",
              "      <th>2</th>\n",
              "      <td>Assassination</td>\n",
              "    </tr>\n",
              "    <tr>\n",
              "      <th>3</th>\n",
              "      <td>Bombing/Explosion</td>\n",
              "    </tr>\n",
              "    <tr>\n",
              "      <th>4</th>\n",
              "      <td>Facility/Infrastructure Attack</td>\n",
              "    </tr>\n",
              "    <tr>\n",
              "      <th>...</th>\n",
              "      <td>...</td>\n",
              "    </tr>\n",
              "    <tr>\n",
              "      <th>181686</th>\n",
              "      <td>Armed Assault</td>\n",
              "    </tr>\n",
              "    <tr>\n",
              "      <th>181687</th>\n",
              "      <td>Bombing/Explosion</td>\n",
              "    </tr>\n",
              "    <tr>\n",
              "      <th>181688</th>\n",
              "      <td>Facility/Infrastructure Attack</td>\n",
              "    </tr>\n",
              "    <tr>\n",
              "      <th>181689</th>\n",
              "      <td>Bombing/Explosion</td>\n",
              "    </tr>\n",
              "    <tr>\n",
              "      <th>181690</th>\n",
              "      <td>Bombing/Explosion</td>\n",
              "    </tr>\n",
              "  </tbody>\n",
              "</table>\n",
              "<p>181691 rows × 1 columns</p>\n",
              "</div>\n",
              "      <button class=\"colab-df-convert\" onclick=\"convertToInteractive('df-f7b295eb-c229-4204-80d0-8e702505c312')\"\n",
              "              title=\"Convert this dataframe to an interactive table.\"\n",
              "              style=\"display:none;\">\n",
              "        \n",
              "  <svg xmlns=\"http://www.w3.org/2000/svg\" height=\"24px\"viewBox=\"0 0 24 24\"\n",
              "       width=\"24px\">\n",
              "    <path d=\"M0 0h24v24H0V0z\" fill=\"none\"/>\n",
              "    <path d=\"M18.56 5.44l.94 2.06.94-2.06 2.06-.94-2.06-.94-.94-2.06-.94 2.06-2.06.94zm-11 1L8.5 8.5l.94-2.06 2.06-.94-2.06-.94L8.5 2.5l-.94 2.06-2.06.94zm10 10l.94 2.06.94-2.06 2.06-.94-2.06-.94-.94-2.06-.94 2.06-2.06.94z\"/><path d=\"M17.41 7.96l-1.37-1.37c-.4-.4-.92-.59-1.43-.59-.52 0-1.04.2-1.43.59L10.3 9.45l-7.72 7.72c-.78.78-.78 2.05 0 2.83L4 21.41c.39.39.9.59 1.41.59.51 0 1.02-.2 1.41-.59l7.78-7.78 2.81-2.81c.8-.78.8-2.07 0-2.86zM5.41 20L4 18.59l7.72-7.72 1.47 1.35L5.41 20z\"/>\n",
              "  </svg>\n",
              "      </button>\n",
              "      \n",
              "  <style>\n",
              "    .colab-df-container {\n",
              "      display:flex;\n",
              "      flex-wrap:wrap;\n",
              "      gap: 12px;\n",
              "    }\n",
              "\n",
              "    .colab-df-convert {\n",
              "      background-color: #E8F0FE;\n",
              "      border: none;\n",
              "      border-radius: 50%;\n",
              "      cursor: pointer;\n",
              "      display: none;\n",
              "      fill: #1967D2;\n",
              "      height: 32px;\n",
              "      padding: 0 0 0 0;\n",
              "      width: 32px;\n",
              "    }\n",
              "\n",
              "    .colab-df-convert:hover {\n",
              "      background-color: #E2EBFA;\n",
              "      box-shadow: 0px 1px 2px rgba(60, 64, 67, 0.3), 0px 1px 3px 1px rgba(60, 64, 67, 0.15);\n",
              "      fill: #174EA6;\n",
              "    }\n",
              "\n",
              "    [theme=dark] .colab-df-convert {\n",
              "      background-color: #3B4455;\n",
              "      fill: #D2E3FC;\n",
              "    }\n",
              "\n",
              "    [theme=dark] .colab-df-convert:hover {\n",
              "      background-color: #434B5C;\n",
              "      box-shadow: 0px 1px 3px 1px rgba(0, 0, 0, 0.15);\n",
              "      filter: drop-shadow(0px 1px 2px rgba(0, 0, 0, 0.3));\n",
              "      fill: #FFFFFF;\n",
              "    }\n",
              "  </style>\n",
              "\n",
              "      <script>\n",
              "        const buttonEl =\n",
              "          document.querySelector('#df-f7b295eb-c229-4204-80d0-8e702505c312 button.colab-df-convert');\n",
              "        buttonEl.style.display =\n",
              "          google.colab.kernel.accessAllowed ? 'block' : 'none';\n",
              "\n",
              "        async function convertToInteractive(key) {\n",
              "          const element = document.querySelector('#df-f7b295eb-c229-4204-80d0-8e702505c312');\n",
              "          const dataTable =\n",
              "            await google.colab.kernel.invokeFunction('convertToInteractive',\n",
              "                                                     [key], {});\n",
              "          if (!dataTable) return;\n",
              "\n",
              "          const docLinkHtml = 'Like what you see? Visit the ' +\n",
              "            '<a target=\"_blank\" href=https://colab.research.google.com/notebooks/data_table.ipynb>data table notebook</a>'\n",
              "            + ' to learn more about interactive tables.';\n",
              "          element.innerHTML = '';\n",
              "          dataTable['output_type'] = 'display_data';\n",
              "          await google.colab.output.renderOutput(dataTable, element);\n",
              "          const docLink = document.createElement('div');\n",
              "          docLink.innerHTML = docLinkHtml;\n",
              "          element.appendChild(docLink);\n",
              "        }\n",
              "      </script>\n",
              "    </div>\n",
              "  </div>\n",
              "  "
            ]
          },
          "metadata": {},
          "execution_count": 36
        }
      ]
    },
    {
      "cell_type": "code",
      "source": [
        "#counting of highest no of times a perticular attack type conducted by Terrorists\n",
        "attack_type_data = attack[\"Attacktype\"].value_counts()\n",
        "attack_type_data"
      ],
      "metadata": {
        "colab": {
          "base_uri": "https://localhost:8080/"
        },
        "id": "oCHgNW5YQAMZ",
        "outputId": "3a38af86-ecd2-4359-bfd1-6e685c328ece"
      },
      "execution_count": null,
      "outputs": [
        {
          "output_type": "execute_result",
          "data": {
            "text/plain": [
              "Bombing/Explosion                      88255\n",
              "Armed Assault                          42669\n",
              "Assassination                          19312\n",
              "Hostage Taking (Kidnapping)            11158\n",
              "Facility/Infrastructure Attack         10356\n",
              "Unknown                                 7276\n",
              "Unarmed Assault                         1015\n",
              "Hostage Taking (Barricade Incident)      991\n",
              "Hijacking                                659\n",
              "Name: Attacktype, dtype: int64"
            ]
          },
          "metadata": {},
          "execution_count": 37
        }
      ]
    },
    {
      "cell_type": "code",
      "source": [
        "#ploting the graph of no of times a perticular attack type conducted by Terrorists.\n",
        "attack_type_data.plot.pie(figsize = (8,8),fontsize = 10)\n",
        "plt.title(\"No of times Attacks conducted\")"
      ],
      "metadata": {
        "colab": {
          "base_uri": "https://localhost:8080/",
          "height": 499
        },
        "id": "1_zlj9SPVt5r",
        "outputId": "c0fb145a-4c0c-4a27-884f-4749e13f24f2"
      },
      "execution_count": null,
      "outputs": [
        {
          "output_type": "execute_result",
          "data": {
            "text/plain": [
              "Text(0.5, 1.0, 'No of times Attacks conducted')"
            ]
          },
          "metadata": {},
          "execution_count": 38
        },
        {
          "output_type": "display_data",
          "data": {
            "text/plain": [
              "<Figure size 576x576 with 1 Axes>"
            ],
            "image/png": "[encoded data removed]"
          },
          "metadata": {}
        }
      ]
    },
    {
      "cell_type": "code",
      "source": [
        "attack_type_data.plot(figsize = (20,10),fontsize = 10)"
      ],
      "metadata": {
        "colab": {
          "base_uri": "https://localhost:8080/",
          "height": 609
        },
        "id": "mjT2Vwygecuy",
        "outputId": "208bf6f1-dbe9-4d72-a6f1-7dce96aa0512"
      },
      "execution_count": null,
      "outputs": [
        {
          "output_type": "execute_result",
          "data": {
            "text/plain": [
              "<matplotlib.axes._subplots.AxesSubplot at 0x7f052efc3650>"
            ]
          },
          "metadata": {},
          "execution_count": 64
        },
        {
          "output_type": "display_data",
          "data": {
            "text/plain": [
              "<Figure size 1440x720 with 1 Axes>"
            ],
            "image/png": "[encoded data removed]"
          },
          "metadata": {
            "needs_background": "light"
          }
        }
      ]
    },
    {
      "cell_type": "markdown",
      "source": [
        "As from the above Pie-Chart it is clear that the \"Explosion\"/\"Bombing\" type of attackes has be mostly being conducted by the Terrorists.\n",
        "\n",
        "It is just only beacause of the are \"easily portable, assemble and dis-assemble, highly explosive and cause a lot of casualities\"."
      ],
      "metadata": {
        "id": "FX-2ln_lp0vF"
      }
    },
    {
      "cell_type": "markdown",
      "source": [
        "##6). **Mostly used Weapons in Attacks**"
      ],
      "metadata": {
        "id": "psky2xJ8ruRS"
      }
    },
    {
      "cell_type": "code",
      "source": [
        "#finding the type of weapon used in terror attacks\n",
        "weapon_data = gt_df[[\"Weapon\"]]\n",
        "weapon_data"
      ],
      "metadata": {
        "colab": {
          "base_uri": "https://localhost:8080/",
          "height": 424
        },
        "id": "hjW934YacUlq",
        "outputId": "71aa4cc0-9693-4d7d-f6f1-5cc20c25f24a"
      },
      "execution_count": null,
      "outputs": [
        {
          "output_type": "execute_result",
          "data": {
            "text/plain": [
              "            Weapon\n",
              "0          Unknown\n",
              "1          Unknown\n",
              "2          Unknown\n",
              "3       Explosives\n",
              "4       Incendiary\n",
              "...            ...\n",
              "181686    Firearms\n",
              "181687  Explosives\n",
              "181688  Incendiary\n",
              "181689  Explosives\n",
              "181690  Explosives\n",
              "\n",
              "[181691 rows x 1 columns]"
            ],
            "text/html": [
              "\n",
              "  <div id=\"df-ef570def-32c4-479c-a947-d294807687e9\">\n",
              "    <div class=\"colab-df-container\">\n",
              "      <div>\n",
              "<style scoped>\n",
              "    .dataframe tbody tr th:only-of-type {\n",
              "        vertical-align: middle;\n",
              "    }\n",
              "\n",
              "    .dataframe tbody tr th {\n",
              "        vertical-align: top;\n",
              "    }\n",
              "\n",
              "    .dataframe thead th {\n",
              "        text-align: right;\n",
              "    }\n",
              "</style>\n",
              "<table border=\"1\" class=\"dataframe\">\n",
              "  <thead>\n",
              "    <tr style=\"text-align: right;\">\n",
              "      <th></th>\n",
              "      <th>Weapon</th>\n",
              "    </tr>\n",
              "  </thead>\n",
              "  <tbody>\n",
              "    <tr>\n",
              "      <th>0</th>\n",
              "      <td>Unknown</td>\n",
              "    </tr>\n",
              "    <tr>\n",
              "      <th>1</th>\n",
              "      <td>Unknown</td>\n",
              "    </tr>\n",
              "    <tr>\n",
              "      <th>2</th>\n",
              "      <td>Unknown</td>\n",
              "    </tr>\n",
              "    <tr>\n",
              "      <th>3</th>\n",
              "      <td>Explosives</td>\n",
              "    </tr>\n",
              "    <tr>\n",
              "      <th>4</th>\n",
              "      <td>Incendiary</td>\n",
              "    </tr>\n",
              "    <tr>\n",
              "      <th>...</th>\n",
              "      <td>...</td>\n",
              "    </tr>\n",
              "    <tr>\n",
              "      <th>181686</th>\n",
              "      <td>Firearms</td>\n",
              "    </tr>\n",
              "    <tr>\n",
              "      <th>181687</th>\n",
              "      <td>Explosives</td>\n",
              "    </tr>\n",
              "    <tr>\n",
              "      <th>181688</th>\n",
              "      <td>Incendiary</td>\n",
              "    </tr>\n",
              "    <tr>\n",
              "      <th>181689</th>\n",
              "      <td>Explosives</td>\n",
              "    </tr>\n",
              "    <tr>\n",
              "      <th>181690</th>\n",
              "      <td>Explosives</td>\n",
              "    </tr>\n",
              "  </tbody>\n",
              "</table>\n",
              "<p>181691 rows × 1 columns</p>\n",
              "</div>\n",
              "      <button class=\"colab-df-convert\" onclick=\"convertToInteractive('df-ef570def-32c4-479c-a947-d294807687e9')\"\n",
              "              title=\"Convert this dataframe to an interactive table.\"\n",
              "              style=\"display:none;\">\n",
              "        \n",
              "  <svg xmlns=\"http://www.w3.org/2000/svg\" height=\"24px\"viewBox=\"0 0 24 24\"\n",
              "       width=\"24px\">\n",
              "    <path d=\"M0 0h24v24H0V0z\" fill=\"none\"/>\n",
              "    <path d=\"M18.56 5.44l.94 2.06.94-2.06 2.06-.94-2.06-.94-.94-2.06-.94 2.06-2.06.94zm-11 1L8.5 8.5l.94-2.06 2.06-.94-2.06-.94L8.5 2.5l-.94 2.06-2.06.94zm10 10l.94 2.06.94-2.06 2.06-.94-2.06-.94-.94-2.06-.94 2.06-2.06.94z\"/><path d=\"M17.41 7.96l-1.37-1.37c-.4-.4-.92-.59-1.43-.59-.52 0-1.04.2-1.43.59L10.3 9.45l-7.72 7.72c-.78.78-.78 2.05 0 2.83L4 21.41c.39.39.9.59 1.41.59.51 0 1.02-.2 1.41-.59l7.78-7.78 2.81-2.81c.8-.78.8-2.07 0-2.86zM5.41 20L4 18.59l7.72-7.72 1.47 1.35L5.41 20z\"/>\n",
              "  </svg>\n",
              "      </button>\n",
              "      \n",
              "  <style>\n",
              "    .colab-df-container {\n",
              "      display:flex;\n",
              "      flex-wrap:wrap;\n",
              "      gap: 12px;\n",
              "    }\n",
              "\n",
              "    .colab-df-convert {\n",
              "      background-color: #E8F0FE;\n",
              "      border: none;\n",
              "      border-radius: 50%;\n",
              "      cursor: pointer;\n",
              "      display: none;\n",
              "      fill: #1967D2;\n",
              "      height: 32px;\n",
              "      padding: 0 0 0 0;\n",
              "      width: 32px;\n",
              "    }\n",
              "\n",
              "    .colab-df-convert:hover {\n",
              "      background-color: #E2EBFA;\n",
              "      box-shadow: 0px 1px 2px rgba(60, 64, 67, 0.3), 0px 1px 3px 1px rgba(60, 64, 67, 0.15);\n",
              "      fill: #174EA6;\n",
              "    }\n",
              "\n",
              "    [theme=dark] .colab-df-convert {\n",
              "      background-color: #3B4455;\n",
              "      fill: #D2E3FC;\n",
              "    }\n",
              "\n",
              "    [theme=dark] .colab-df-convert:hover {\n",
              "      background-color: #434B5C;\n",
              "      box-shadow: 0px 1px 3px 1px rgba(0, 0, 0, 0.15);\n",
              "      filter: drop-shadow(0px 1px 2px rgba(0, 0, 0, 0.3));\n",
              "      fill: #FFFFFF;\n",
              "    }\n",
              "  </style>\n",
              "\n",
              "      <script>\n",
              "        const buttonEl =\n",
              "          document.querySelector('#df-ef570def-32c4-479c-a947-d294807687e9 button.colab-df-convert');\n",
              "        buttonEl.style.display =\n",
              "          google.colab.kernel.accessAllowed ? 'block' : 'none';\n",
              "\n",
              "        async function convertToInteractive(key) {\n",
              "          const element = document.querySelector('#df-ef570def-32c4-479c-a947-d294807687e9');\n",
              "          const dataTable =\n",
              "            await google.colab.kernel.invokeFunction('convertToInteractive',\n",
              "                                                     [key], {});\n",
              "          if (!dataTable) return;\n",
              "\n",
              "          const docLinkHtml = 'Like what you see? Visit the ' +\n",
              "            '<a target=\"_blank\" href=https://colab.research.google.com/notebooks/data_table.ipynb>data table notebook</a>'\n",
              "            + ' to learn more about interactive tables.';\n",
              "          element.innerHTML = '';\n",
              "          dataTable['output_type'] = 'display_data';\n",
              "          await google.colab.output.renderOutput(dataTable, element);\n",
              "          const docLink = document.createElement('div');\n",
              "          docLink.innerHTML = docLinkHtml;\n",
              "          element.appendChild(docLink);\n",
              "        }\n",
              "      </script>\n",
              "    </div>\n",
              "  </div>\n",
              "  "
            ]
          },
          "metadata": {},
          "execution_count": 59
        }
      ]
    },
    {
      "cell_type": "code",
      "source": [
        "#Counting of how many times the perticular type of weapons ahs been used from 1970 to 2017\n",
        "weapon_type_used = weapon_data[\"Weapon\"].value_counts()\n",
        "weapon_type_used"
      ],
      "metadata": {
        "colab": {
          "base_uri": "https://localhost:8080/"
        },
        "id": "VMTbzTJMdnfq",
        "outputId": "e30e8299-6ee7-4ac9-bbca-74c411114c48"
      },
      "execution_count": null,
      "outputs": [
        {
          "output_type": "execute_result",
          "data": {
            "text/plain": [
              "Explosives                                                                     92426\n",
              "Firearms                                                                       58524\n",
              "Unknown                                                                        15157\n",
              "Incendiary                                                                     11135\n",
              "Melee                                                                           3655\n",
              "Chemical                                                                         321\n",
              "Sabotage Equipment                                                               141\n",
              "Vehicle (not to include vehicle-borne explosives, i.e., car or truck bombs)      136\n",
              "Other                                                                            114\n",
              "Biological                                                                        35\n",
              "Fake Weapons                                                                      33\n",
              "Radiological                                                                      14\n",
              "Name: Weapon, dtype: int64"
            ]
          },
          "metadata": {},
          "execution_count": 60
        }
      ]
    },
    {
      "cell_type": "code",
      "source": [
        "#ploting the graph of above context with top 5 weapons used to attack\n",
        "weapon_type_used.head().plot.pie(figsize = (8,8), fontsize = 10)"
      ],
      "metadata": {
        "colab": {
          "base_uri": "https://localhost:8080/",
          "height": 483
        },
        "id": "SL69M3YcUsgM",
        "outputId": "d3b3a0d7-5212-48b8-9b41-a0aa8c56f4e6"
      },
      "execution_count": null,
      "outputs": [
        {
          "output_type": "execute_result",
          "data": {
            "text/plain": [
              "<matplotlib.axes._subplots.AxesSubplot at 0x7f053426a390>"
            ]
          },
          "metadata": {},
          "execution_count": 41
        },
        {
          "output_type": "display_data",
          "data": {
            "text/plain": [
              "<Figure size 576x576 with 1 Axes>"
            ],
            "image/png": "[encoded data removed]"
          },
          "metadata": {}
        }
      ]
    },
    {
      "cell_type": "markdown",
      "source": [
        "## 7. No of Peoples got killed by a Perticular type of Weapon.\n",
        "Here at this stage we are going to extract values by which kind of weapon the highest no of kills has been occured."
      ],
      "metadata": {
        "id": "ZeA6ZuuEm9L3"
      }
    },
    {
      "cell_type": "code",
      "source": [
        "W_data = gt_df[[\"Weapon\",\"Total casualities\"]]"
      ],
      "metadata": {
        "id": "zUKWb3o0lqlJ"
      },
      "execution_count": null,
      "outputs": []
    },
    {
      "cell_type": "code",
      "source": [
        "w_d_u = W_data.groupby([\"Weapon\"])[\"Total casualities\"].sum().sort_values()\n",
        "w_d_u"
      ],
      "metadata": {
        "colab": {
          "base_uri": "https://localhost:8080/"
        },
        "id": "dZFKTTaCl4C8",
        "outputId": "4dbfab20-1421-4690-d7d5-b454e0021611"
      },
      "execution_count": null,
      "outputs": [
        {
          "output_type": "execute_result",
          "data": {
            "text/plain": [
              "Weapon\n",
              "Radiological                                                                       442.0\n",
              "Biological                                                                        1162.0\n",
              "Fake Weapons                                                                      1349.0\n",
              "Other                                                                             5943.0\n",
              "Vehicle (not to include vehicle-borne explosives, i.e., car or truck bombs)       6001.0\n",
              "Sabotage Equipment                                                               11269.0\n",
              "Chemical                                                                         15492.0\n",
              "Melee                                                                           202030.0\n",
              "Incendiary                                                                      508098.0\n",
              "Unknown                                                                         680330.0\n",
              "Firearms                                                                       2497408.0\n",
              "Explosives                                                                     4117535.0\n",
              "Name: Total casualities, dtype: float64"
            ]
          },
          "metadata": {},
          "execution_count": 109
        }
      ]
    },
    {
      "cell_type": "code",
      "source": [
        "w_d_u.plot.bar()"
      ],
      "metadata": {
        "colab": {
          "base_uri": "https://localhost:8080/",
          "height": 662
        },
        "id": "7kbT8RXLraq6",
        "outputId": "3db6c5f6-39dd-4903-9035-4334b89298cd"
      },
      "execution_count": null,
      "outputs": [
        {
          "output_type": "execute_result",
          "data": {
            "text/plain": [
              "<matplotlib.axes._subplots.AxesSubplot at 0x7f04dcfe7e50>"
            ]
          },
          "metadata": {},
          "execution_count": 111
        },
        {
          "output_type": "display_data",
          "data": {
            "text/plain": [
              "<Figure size 432x288 with 1 Axes>"
            ],
            "image/png": "[encoded data removed]"
          },
          "metadata": {
            "needs_background": "light"
          }
        }
      ]
    },
    {
      "cell_type": "markdown",
      "source": [
        "##8.  Most of the Attackes are Conducted By which Group?\n",
        "\n",
        "In order to find the ways to tackle with the most active and dangerous groups due to which people get into fear and use to live with that fear. Because nobody knows like when and how the terror attacks will we conducted by these Terrorist Groups.\n"
      ],
      "metadata": {
        "id": "_tozJ_jNYpAZ"
      }
    },
    {
      "cell_type": "code",
      "source": [
        "#finding the terrorist groups\n",
        "group = gt_df[[\"Terror group\"]]\n",
        "group"
      ],
      "metadata": {
        "colab": {
          "base_uri": "https://localhost:8080/",
          "height": 424
        },
        "id": "F9qxm1U9W6g4",
        "outputId": "6dd20692-eb8a-48c4-b7a2-58ad15f96207"
      },
      "execution_count": null,
      "outputs": [
        {
          "output_type": "execute_result",
          "data": {
            "text/plain": [
              "                                      Terror group\n",
              "0                                           MANO-D\n",
              "1               23rd of September Communist League\n",
              "2                                          Unknown\n",
              "3                                          Unknown\n",
              "4                                          Unknown\n",
              "...                                            ...\n",
              "181686                                  Al-Shabaab\n",
              "181687                           Muslim extremists\n",
              "181688  Bangsamoro Islamic Freedom Movement (BIFM)\n",
              "181689                                     Unknown\n",
              "181690                                     Unknown\n",
              "\n",
              "[181691 rows x 1 columns]"
            ],
            "text/html": [
              "\n",
              "  <div id=\"df-8a1b5415-fd83-42ea-8bfb-a1a4d7560eec\">\n",
              "    <div class=\"colab-df-container\">\n",
              "      <div>\n",
              "<style scoped>\n",
              "    .dataframe tbody tr th:only-of-type {\n",
              "        vertical-align: middle;\n",
              "    }\n",
              "\n",
              "    .dataframe tbody tr th {\n",
              "        vertical-align: top;\n",
              "    }\n",
              "\n",
              "    .dataframe thead th {\n",
              "        text-align: right;\n",
              "    }\n",
              "</style>\n",
              "<table border=\"1\" class=\"dataframe\">\n",
              "  <thead>\n",
              "    <tr style=\"text-align: right;\">\n",
              "      <th></th>\n",
              "      <th>Terror group</th>\n",
              "    </tr>\n",
              "  </thead>\n",
              "  <tbody>\n",
              "    <tr>\n",
              "      <th>0</th>\n",
              "      <td>MANO-D</td>\n",
              "    </tr>\n",
              "    <tr>\n",
              "      <th>1</th>\n",
              "      <td>23rd of September Communist League</td>\n",
              "    </tr>\n",
              "    <tr>\n",
              "      <th>2</th>\n",
              "      <td>Unknown</td>\n",
              "    </tr>\n",
              "    <tr>\n",
              "      <th>3</th>\n",
              "      <td>Unknown</td>\n",
              "    </tr>\n",
              "    <tr>\n",
              "      <th>4</th>\n",
              "      <td>Unknown</td>\n",
              "    </tr>\n",
              "    <tr>\n",
              "      <th>...</th>\n",
              "      <td>...</td>\n",
              "    </tr>\n",
              "    <tr>\n",
              "      <th>181686</th>\n",
              "      <td>Al-Shabaab</td>\n",
              "    </tr>\n",
              "    <tr>\n",
              "      <th>181687</th>\n",
              "      <td>Muslim extremists</td>\n",
              "    </tr>\n",
              "    <tr>\n",
              "      <th>181688</th>\n",
              "      <td>Bangsamoro Islamic Freedom Movement (BIFM)</td>\n",
              "    </tr>\n",
              "    <tr>\n",
              "      <th>181689</th>\n",
              "      <td>Unknown</td>\n",
              "    </tr>\n",
              "    <tr>\n",
              "      <th>181690</th>\n",
              "      <td>Unknown</td>\n",
              "    </tr>\n",
              "  </tbody>\n",
              "</table>\n",
              "<p>181691 rows × 1 columns</p>\n",
              "</div>\n",
              "      <button class=\"colab-df-convert\" onclick=\"convertToInteractive('df-8a1b5415-fd83-42ea-8bfb-a1a4d7560eec')\"\n",
              "              title=\"Convert this dataframe to an interactive table.\"\n",
              "              style=\"display:none;\">\n",
              "        \n",
              "  <svg xmlns=\"http://www.w3.org/2000/svg\" height=\"24px\"viewBox=\"0 0 24 24\"\n",
              "       width=\"24px\">\n",
              "    <path d=\"M0 0h24v24H0V0z\" fill=\"none\"/>\n",
              "    <path d=\"M18.56 5.44l.94 2.06.94-2.06 2.06-.94-2.06-.94-.94-2.06-.94 2.06-2.06.94zm-11 1L8.5 8.5l.94-2.06 2.06-.94-2.06-.94L8.5 2.5l-.94 2.06-2.06.94zm10 10l.94 2.06.94-2.06 2.06-.94-2.06-.94-.94-2.06-.94 2.06-2.06.94z\"/><path d=\"M17.41 7.96l-1.37-1.37c-.4-.4-.92-.59-1.43-.59-.52 0-1.04.2-1.43.59L10.3 9.45l-7.72 7.72c-.78.78-.78 2.05 0 2.83L4 21.41c.39.39.9.59 1.41.59.51 0 1.02-.2 1.41-.59l7.78-7.78 2.81-2.81c.8-.78.8-2.07 0-2.86zM5.41 20L4 18.59l7.72-7.72 1.47 1.35L5.41 20z\"/>\n",
              "  </svg>\n",
              "      </button>\n",
              "      \n",
              "  <style>\n",
              "    .colab-df-container {\n",
              "      display:flex;\n",
              "      flex-wrap:wrap;\n",
              "      gap: 12px;\n",
              "    }\n",
              "\n",
              "    .colab-df-convert {\n",
              "      background-color: #E8F0FE;\n",
              "      border: none;\n",
              "      border-radius: 50%;\n",
              "      cursor: pointer;\n",
              "      display: none;\n",
              "      fill: #1967D2;\n",
              "      height: 32px;\n",
              "      padding: 0 0 0 0;\n",
              "      width: 32px;\n",
              "    }\n",
              "\n",
              "    .colab-df-convert:hover {\n",
              "      background-color: #E2EBFA;\n",
              "      box-shadow: 0px 1px 2px rgba(60, 64, 67, 0.3), 0px 1px 3px 1px rgba(60, 64, 67, 0.15);\n",
              "      fill: #174EA6;\n",
              "    }\n",
              "\n",
              "    [theme=dark] .colab-df-convert {\n",
              "      background-color: #3B4455;\n",
              "      fill: #D2E3FC;\n",
              "    }\n",
              "\n",
              "    [theme=dark] .colab-df-convert:hover {\n",
              "      background-color: #434B5C;\n",
              "      box-shadow: 0px 1px 3px 1px rgba(0, 0, 0, 0.15);\n",
              "      filter: drop-shadow(0px 1px 2px rgba(0, 0, 0, 0.3));\n",
              "      fill: #FFFFFF;\n",
              "    }\n",
              "  </style>\n",
              "\n",
              "      <script>\n",
              "        const buttonEl =\n",
              "          document.querySelector('#df-8a1b5415-fd83-42ea-8bfb-a1a4d7560eec button.colab-df-convert');\n",
              "        buttonEl.style.display =\n",
              "          google.colab.kernel.accessAllowed ? 'block' : 'none';\n",
              "\n",
              "        async function convertToInteractive(key) {\n",
              "          const element = document.querySelector('#df-8a1b5415-fd83-42ea-8bfb-a1a4d7560eec');\n",
              "          const dataTable =\n",
              "            await google.colab.kernel.invokeFunction('convertToInteractive',\n",
              "                                                     [key], {});\n",
              "          if (!dataTable) return;\n",
              "\n",
              "          const docLinkHtml = 'Like what you see? Visit the ' +\n",
              "            '<a target=\"_blank\" href=https://colab.research.google.com/notebooks/data_table.ipynb>data table notebook</a>'\n",
              "            + ' to learn more about interactive tables.';\n",
              "          element.innerHTML = '';\n",
              "          dataTable['output_type'] = 'display_data';\n",
              "          await google.colab.output.renderOutput(dataTable, element);\n",
              "          const docLink = document.createElement('div');\n",
              "          docLink.innerHTML = docLinkHtml;\n",
              "          element.appendChild(docLink);\n",
              "        }\n",
              "      </script>\n",
              "    </div>\n",
              "  </div>\n",
              "  "
            ]
          },
          "metadata": {},
          "execution_count": 42
        }
      ]
    },
    {
      "cell_type": "code",
      "source": [
        "#now here we are finding the group, which conducted the highest no of terrorist attacks\n",
        "z = group[\"Terror group\"].value_counts()\n",
        "z.head(10)"
      ],
      "metadata": {
        "colab": {
          "base_uri": "https://localhost:8080/"
        },
        "id": "-aHucg-TZJX6",
        "outputId": "4deca28e-d7ed-44b4-a646-33460d9205f5"
      },
      "execution_count": null,
      "outputs": [
        {
          "output_type": "execute_result",
          "data": {
            "text/plain": [
              "Unknown                                             82782\n",
              "Taliban                                              7478\n",
              "Islamic State of Iraq and the Levant (ISIL)          5613\n",
              "Shining Path (SL)                                    4555\n",
              "Farabundo Marti National Liberation Front (FMLN)     3351\n",
              "Al-Shabaab                                           3288\n",
              "New People's Army (NPA)                              2772\n",
              "Irish Republican Army (IRA)                          2671\n",
              "Revolutionary Armed Forces of Colombia (FARC)        2487\n",
              "Boko Haram                                           2418\n",
              "Name: Terror group, dtype: int64"
            ]
          },
          "metadata": {},
          "execution_count": 114
        }
      ]
    },
    {
      "cell_type": "code",
      "source": [
        "#ploting the graph of highly active group or the group invoveled in highest no of terrorist attacks\n",
        "z.head(10).plot.barh(figsize = (8,8), fontsize = 15)\n",
        "plt.ylabel(\"Terror group name\")\n",
        "plt.xlabel(\"No of times attack conducted\")\n",
        "plt.title(\"Terror group v/s No of times attack conducted\")"
      ],
      "metadata": {
        "colab": {
          "base_uri": "https://localhost:8080/",
          "height": 535
        },
        "id": "SuzY5lHblolC",
        "outputId": "7b372d3e-65dd-4956-af94-a60cd713fba2"
      },
      "execution_count": null,
      "outputs": [
        {
          "output_type": "execute_result",
          "data": {
            "text/plain": [
              "Text(0.5, 1.0, 'Terror group v/s No of times attack conducted')"
            ]
          },
          "metadata": {},
          "execution_count": 44
        },
        {
          "output_type": "display_data",
          "data": {
            "text/plain": [
              "<Figure size 576x576 with 1 Axes>"
            ],
            "image/png": "[encoded data removed]"
          },
          "metadata": {
            "needs_background": "light"
          }
        }
      ]
    },
    {
      "cell_type": "markdown",
      "source": [
        "As of above graph we can easliy conclude that most of of the attackes is conducted by some of the  ANONYMOUS Terror Gropus who dont clames the responsibilties of the attacks or don't want to get highlighted in public.\n",
        "\n",
        "But it is also clear that \"TALIBAN\" is on the 2nd highest Terror Attacks conducting groups in all over the world, so everyone should try to make counter strategy to teckle with them.\n"
      ],
      "metadata": {
        "id": "VmZ8tz9ctmur"
      }
    },
    {
      "cell_type": "markdown",
      "source": [
        "## Last year most active groups conducted attacks.\n",
        "\n",
        "To make a counter on these terrorist groups, need to analyse whhich group is mostly active in the recent time or year."
      ],
      "metadata": {
        "id": "Kl4chD0Cnmnn"
      }
    },
    {
      "cell_type": "code",
      "source": [
        "#year wise data of active terrorist group active in perticalr year\n",
        "high_active = gt_df[[\"Year\",\"Terror group\"]]"
      ],
      "metadata": {
        "id": "Gli3zaPMnVys"
      },
      "execution_count": null,
      "outputs": []
    },
    {
      "cell_type": "code",
      "source": [
        "#grouping by years\n",
        "h = high_active.groupby([\"Year\"])[\"Terror group\"].value_counts()\n",
        "h"
      ],
      "metadata": {
        "colab": {
          "base_uri": "https://localhost:8080/"
        },
        "id": "fYB9cFT3p5AN",
        "outputId": "b33711d4-e9ed-4bfb-80c5-ca4ecf6783d6"
      },
      "execution_count": null,
      "outputs": [
        {
          "output_type": "execute_result",
          "data": {
            "text/plain": [
              "Year  Terror group                                \n",
              "1970  Unknown                                         115\n",
              "      Left-Wing Militants                             108\n",
              "      Black Nationalists                               69\n",
              "      Student Radicals                                 54\n",
              "      Tupamaros (Uruguay)                              33\n",
              "                                                     ... \n",
              "2017  United Achik National Front (UANF)                1\n",
              "      United Baloch Army (UBA)                          1\n",
              "      United Party for National Development (UPND)      1\n",
              "      United Tribal Liberation Army (UTLA)              1\n",
              "      Zagros Eagles                                     1\n",
              "Name: Terror group, Length: 9038, dtype: int64"
            ]
          },
          "metadata": {},
          "execution_count": 46
        }
      ]
    },
    {
      "cell_type": "code",
      "source": [
        "#finding the last year using boolean indexing\n",
        "gt_df[\"Year\"] == 2017"
      ],
      "metadata": {
        "colab": {
          "base_uri": "https://localhost:8080/"
        },
        "id": "r1EZUpm4xoqG",
        "outputId": "65c01222-8287-4d51-c641-1dce3b885049"
      },
      "execution_count": null,
      "outputs": [
        {
          "output_type": "execute_result",
          "data": {
            "text/plain": [
              "0         False\n",
              "1         False\n",
              "2         False\n",
              "3         False\n",
              "4         False\n",
              "          ...  \n",
              "181686     True\n",
              "181687     True\n",
              "181688     True\n",
              "181689     True\n",
              "181690     True\n",
              "Name: Year, Length: 181691, dtype: bool"
            ]
          },
          "metadata": {},
          "execution_count": 47
        }
      ]
    },
    {
      "cell_type": "code",
      "source": [
        "last_year_data = gt_df[gt_df[\"Year\"] == 2017]"
      ],
      "metadata": {
        "id": "7LGxB05MxGXc"
      },
      "execution_count": null,
      "outputs": []
    },
    {
      "cell_type": "code",
      "source": [
        "#finding the highly active terror group in last year(2017)\n",
        "high_active = last_year_data[[\"Year\",\"Terror group\"]]"
      ],
      "metadata": {
        "id": "j-uYNx0FyD8m"
      },
      "execution_count": null,
      "outputs": []
    },
    {
      "cell_type": "code",
      "source": [
        "#conduction of no of attacks by a specific terror group in last year(2017)\n",
        "h = high_active.groupby([\"Year\"])[\"Terror group\"].value_counts()\n",
        "h"
      ],
      "metadata": {
        "colab": {
          "base_uri": "https://localhost:8080/"
        },
        "id": "G_JYiCk1rjME",
        "outputId": "346f314e-942f-46e9-aeec-9e4dd216213f"
      },
      "execution_count": null,
      "outputs": [
        {
          "output_type": "execute_result",
          "data": {
            "text/plain": [
              "Year  Terror group                                \n",
              "2017  Unknown                                         4349\n",
              "      Islamic State of Iraq and the Levant (ISIL)     1315\n",
              "      Taliban                                          894\n",
              "      Al-Shabaab                                       570\n",
              "      New People's Army (NPA)                          358\n",
              "                                                      ... \n",
              "      United Achik National Front (UANF)                 1\n",
              "      United Baloch Army (UBA)                           1\n",
              "      United Party for National Development (UPND)       1\n",
              "      United Tribal Liberation Army (UTLA)               1\n",
              "      Zagros Eagles                                      1\n",
              "Name: Terror group, Length: 338, dtype: int64"
            ]
          },
          "metadata": {},
          "execution_count": 50
        }
      ]
    },
    {
      "cell_type": "code",
      "source": [
        "h.head(10)"
      ],
      "metadata": {
        "colab": {
          "base_uri": "https://localhost:8080/"
        },
        "id": "-m4FUyOfhzuP",
        "outputId": "37f9c184-434b-4b62-d258-7eca6fd44a76"
      },
      "execution_count": null,
      "outputs": [
        {
          "output_type": "execute_result",
          "data": {
            "text/plain": [
              "Year  Terror group                               \n",
              "2017  Unknown                                        4349\n",
              "      Islamic State of Iraq and the Levant (ISIL)    1315\n",
              "      Taliban                                         894\n",
              "      Al-Shabaab                                      570\n",
              "      New People's Army (NPA)                         358\n",
              "      Boko Haram                                      333\n",
              "      Maoists                                         206\n",
              "      Khorasan Chapter of the Islamic State           175\n",
              "      Houthi extremists (Ansar Allah)                 158\n",
              "      Kurdistan Workers' Party (PKK)                  156\n",
              "Name: Terror group, dtype: int64"
            ]
          },
          "metadata": {},
          "execution_count": 51
        }
      ]
    },
    {
      "cell_type": "code",
      "source": [
        "#quenching the top 10 terror organisation which is engaged in highest no of terror attacks in last year(2017)\n",
        "h.head(10).plot.pie(figsize = (10,5), fontsize = 10)"
      ],
      "metadata": {
        "colab": {
          "base_uri": "https://localhost:8080/",
          "height": 320
        },
        "id": "RRcue4uKyVoF",
        "outputId": "dcd8cc7f-dffb-4f7f-dcd6-5db83fd99231"
      },
      "execution_count": null,
      "outputs": [
        {
          "output_type": "execute_result",
          "data": {
            "text/plain": [
              "<matplotlib.axes._subplots.AxesSubplot at 0x7f0533f60890>"
            ]
          },
          "metadata": {},
          "execution_count": 52
        },
        {
          "output_type": "display_data",
          "data": {
            "text/plain": [
              "<Figure size 720x360 with 1 Axes>"
            ],
            "image/png": "[encoded data removed]"
          },
          "metadata": {}
        }
      ]
    },
    {
      "cell_type": "markdown",
      "source": [
        "As we already know that the \"TALIBAN\" is the most highly active group in order to conduct most no of attacks in past few year but in last year, 2017 \"Islamic State of Iraq and the Levant (ISIL)\" conducted the highest no of terrorist attacks all over the world. Which is about 1315."
      ],
      "metadata": {
        "id": "c4cXYmPwvj2y"
      }
    },
    {
      "cell_type": "code",
      "source": [
        "h.tail(10)"
      ],
      "metadata": {
        "colab": {
          "base_uri": "https://localhost:8080/"
        },
        "id": "daZVNE6mhrIh",
        "outputId": "dd46525f-61bb-4d8a-ccd3-885646dba104"
      },
      "execution_count": null,
      "outputs": [
        {
          "output_type": "execute_result",
          "data": {
            "text/plain": [
              "Year  Terror group                                                       \n",
              "2017  The Owners of the White Flags                                          1\n",
              "      Tutsi extremists                                                       1\n",
              "      Uighur Separatists                                                     1\n",
              "      Unified Communist Party of Nepal (Maoist)                              1\n",
              "      Union of Peoples and Organizations of the State of Guerrero (UPOEG)    1\n",
              "      United Achik National Front (UANF)                                     1\n",
              "      United Baloch Army (UBA)                                               1\n",
              "      United Party for National Development (UPND)                           1\n",
              "      United Tribal Liberation Army (UTLA)                                   1\n",
              "      Zagros Eagles                                                          1\n",
              "Name: Terror group, dtype: int64"
            ]
          },
          "metadata": {},
          "execution_count": 53
        }
      ]
    },
    {
      "cell_type": "code",
      "source": [
        "##quenching the top 10 terror organisation which is engaged in lowest no of terror attacks in last year(2017)\n",
        "h.tail(10).plot.pie(figsize = (10,5), fontsize = 10)"
      ],
      "metadata": {
        "colab": {
          "base_uri": "https://localhost:8080/",
          "height": 320
        },
        "id": "cm59zg7Zyr7C",
        "outputId": "510af82a-4e14-463e-b0ed-a9542932ccde"
      },
      "execution_count": null,
      "outputs": [
        {
          "output_type": "execute_result",
          "data": {
            "text/plain": [
              "<matplotlib.axes._subplots.AxesSubplot at 0x7f05341d7dd0>"
            ]
          },
          "metadata": {},
          "execution_count": 54
        },
        {
          "output_type": "display_data",
          "data": {
            "text/plain": [
              "<Figure size 720x360 with 1 Axes>"
            ],
            "image/png": "[encoded data removed]"
          },
          "metadata": {}
        }
      ]
    },
    {
      "cell_type": "markdown",
      "source": [
        "## **Conclusion:**\n",
        "\n",
        "Thats all for our analysing of the data in order to considering the \"year\",\"expected casualities\",\"total casualities\", \"attacktype\", \"weapon\", & \"Terror groups\" involved in the major Terrorist Activities in past few years. Here we had deal with the missing of some useful kind of data, we finded them and we have also tested some fundamental statistical assumptions and transformations in order to analyse the data in basic and useful manner.\n",
        "\n",
        "That's a lot of work that Python helped us make easier.\n"
      ],
      "metadata": {
        "id": "9Uf9U2syx0Ke"
      }
    },
    {
      "cell_type": "code",
      "source": [],
      "metadata": {
        "id": "HIs3NwZUCdaP"
      },
      "execution_count": null,
      "outputs": []
    }
  ]
}